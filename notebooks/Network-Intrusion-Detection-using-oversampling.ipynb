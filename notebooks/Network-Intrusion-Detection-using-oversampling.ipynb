{
 "cells": [
  {
   "cell_type": "code",
   "execution_count": 77,
   "metadata": {},
   "outputs": [],
   "source": [
    "INPUT_DIRECTORY = \"../dataset\""
   ]
  },
  {
   "cell_type": "markdown",
   "metadata": {},
   "source": [
    "# Importing Libraries"
   ]
  },
  {
   "cell_type": "code",
   "execution_count": 78,
   "metadata": {},
   "outputs": [],
   "source": [
    "import os\n",
    "import base64\n",
    "import requests\n",
    "import numpy as np\n",
    "import pandas as pd\n",
    "import itertools\n",
    "import pickle\n",
    "import seaborn as sns\n",
    "import matplotlib.pyplot as plt\n",
    "from sklearn import metrics\n",
    "from sklearn import preprocessing\n",
    "from scipy.interpolate import spline\n",
    "from sklearn.preprocessing import MinMaxScaler\n",
    "from sklearn.preprocessing import StandardScaler\n",
    "from sklearn.model_selection import train_test_split\n",
    "from keras.models import Sequential\n",
    "from keras.layers.core import Dense, Activation\n",
    "from keras.layers import LSTM\n",
    "from keras.layers import Dropout, Flatten\n",
    "from keras import callbacks\n",
    "from keras.callbacks import EarlyStopping, CSVLogger\n",
    "from sklearn import metrics\n",
    "from sklearn.metrics import confusion_matrix\n",
    "from sklearn.metrics import precision_score,recall_score,f1_score,roc_auc_score,accuracy_score,classification_report"
   ]
  },
  {
   "cell_type": "markdown",
   "metadata": {},
   "source": [
    "# Function Definition"
   ]
  },
  {
   "cell_type": "code",
   "execution_count": 79,
   "metadata": {},
   "outputs": [],
   "source": [
    "# Encode text values to dummy variables(i.e. [1,0,0],[0,1,0],[0,0,1] for red,green,blue)\n",
    "def encode_text_dummy(df, name):\n",
    "    dummies = pd.get_dummies(df[name])\n",
    "    for x in dummies.columns:\n",
    "        dummy_name = f\"{name}-{x}\"\n",
    "        df[dummy_name] = dummies[x]\n",
    "    df.drop(name, axis=1, inplace=True)\n",
    "\n",
    "\n",
    "\n",
    "# Encode text values to indexes(i.e. [1],[2],[3] for red,green,blue).\n",
    "def encode_text_index(df, name):\n",
    "    le = preprocessing.LabelEncoder()\n",
    "    df[name] = le.fit_transform(df[name])\n",
    "    return le.classes_\n",
    "\n",
    "\n",
    "\n",
    "# Convert a Pandas dataframe to the x,y inputs that TensorFlow needs\n",
    "def to_xy(df, target):\n",
    "    result = []\n",
    "    for x in df.columns:\n",
    "        if x != target:\n",
    "            result.append(x)\n",
    "    # find out the type of the target column.  Is it really this hard? :(\n",
    "    target_type = df[target].dtypes\n",
    "    target_type = target_type[0] if hasattr(\n",
    "        target_type, '__iter__') else target_type\n",
    "    # Encode to int for classification, float otherwise. TensorFlow likes 32 bits.\n",
    "    if target_type in (np.int64, np.int32):\n",
    "        # Classification\n",
    "        dummies = pd.get_dummies(df[target])\n",
    "        return df[result].values.astype(np.float32), dummies.values.astype(np.float32)\n",
    "    # Regression\n",
    "    return df[result].values.astype(np.float32), df[[target]].values.astype(np.float32)\n",
    "\n",
    "\n",
    "\n",
    "\n",
    "def load_data():\n",
    "    filename = \"all_attack_sampled_dataset.csv\"\n",
    "    file = os.path.join(INPUT_DIRECTORY,filename)\n",
    "    df1 = pd.read_csv(file)\n",
    "    return df1\n",
    "\n",
    "def oversample(dfx):\n",
    "    max_size = dfx ['SubLabel'].value_counts().max()\n",
    "    lst = [dfx ]\n",
    "    for class_index, group in dfx .groupby('SubLabel'):\n",
    "        lst.append(group.sample(max_size-len(group), replace=True))\n",
    "    dfx_new = pd.concat(lst)\n",
    "    return dfx_new\n",
    "\n",
    "def preprocess(df):\n",
    "    print(\"Total number of features : \",len(df.columns))\n",
    "    print(\"\\n----Dropping features---\")\n",
    "    \n",
    "    drop_columns = ['Timestamp','Src IP','Dst IP','Src Port','Flow ID']\n",
    "    df.drop(drop_columns,inplace=True,axis=1)\n",
    "    \n",
    "    print(\"Number of features : \",len(df.columns))\n",
    "    print(\"\\n----Encoding categorical data---\")\n",
    "    \n",
    "    df.loc[df['SubLabel']=='Normal', 'SubLabel'] = 0\n",
    "\n",
    "    df.loc[df['SubLabel']=='Port Scan', 'SubLabel'] = 1\n",
    "    df.loc[df['SubLabel']=='TCP SYN Scan', 'SubLabel'] = 1\n",
    "\n",
    "    df.loc[df['SubLabel']=='DOS goldeneye', 'SubLabel'] = 5\n",
    "    df.loc[df['SubLabel']=='DOS Slowloris', 'SubLabel'] = 5\n",
    "    df.loc[df['SubLabel']=='ICMP Flood', 'SubLabel'] = 2\n",
    "    df.loc[df['SubLabel']=='Push ACK Flood', 'SubLabel'] = 2\n",
    "    df.loc[df['SubLabel']=='SYN FIN Flood', 'SubLabel'] = 2\n",
    "    df.loc[df['SubLabel']=='UDP Flood', 'SubLabel'] = 5\n",
    "    \n",
    "    df.loc[df['SubLabel']=='SSH BruteForce', 'SubLabel'] = 3\n",
    "    \n",
    "    df.loc[df['SubLabel']=='Malware Infiltration', 'SubLabel'] = 4\n",
    "\n",
    "\n",
    "    \n",
    "    df.loc[df['SubLabel']=='FTP Bounce Scan', 'SubLabel'] = 5\n",
    "    df.loc[df['SubLabel']=='Host Scan', 'SubLabel'] = 5\n",
    "    df.loc[df['SubLabel']=='Xmas Scan', 'SubLabel'] = 5\n",
    "    df.loc[df['SubLabel']=='ACK Scan', 'SubLabel'] = 5\n",
    "    df.loc[df['SubLabel']=='FIN Scan', 'SubLabel'] = 5 \n",
    "    df.loc[df['SubLabel']=='FTP Bruteforce', 'SubLabel'] = 5\n",
    "    df.loc[df['SubLabel']=='MySql BruteForce', 'SubLabel'] = 5\n",
    "    \n",
    "   \n",
    "    df = df.drop(df[(df.SubLabel!= 0) & (df.SubLabel!= 1 )& (df.SubLabel!= 2)&(df.SubLabel!= 3)&(df.SubLabel!= 4)].index)\n",
    "\n",
    "    \n",
    "    \n",
    "    # replacing normal by 0 and threat by 1 \n",
    "    df.loc[df['Label']=='Normal', 'Label'] = 0\n",
    "    df.loc[df['Label']=='Attack', 'Label'] = 1\n",
    "   \n",
    "     \n",
    "    \n",
    "def plot_confusion_matrix(cm, classes,\n",
    "                          normalize=False,\n",
    "                          title='Confusion matrix',\n",
    "                          cmap=plt.cm.Greens):\n",
    "    \n",
    "    if normalize:\n",
    "        cm = cm.astype('float') / cm.sum(axis=1)[:, np.newaxis]\n",
    "        print(\"Normalized confusion matrix\")\n",
    "    else:\n",
    "        print('Confusion matrix, without normalization')\n",
    "\n",
    "    #     print(cm)\n",
    "\n",
    "    plt.imshow(cm, interpolation='nearest', cmap=cmap)\n",
    "    plt.title(title)\n",
    "    plt.colorbar()\n",
    "    tick_marks = np.arange(len(classes))\n",
    "    plt.xticks(tick_marks, classes, rotation=45)\n",
    "    plt.yticks(tick_marks, classes)\n",
    "\n",
    "    fmt = '.2f' if normalize else 'd'\n",
    "    thresh = cm.max() / 2.\n",
    "    for i, j in itertools.product(range(cm.shape[0]), range(cm.shape[1])):\n",
    "        plt.text(j, i, format(cm[i, j], fmt),\n",
    "                 horizontalalignment=\"center\",\n",
    "                 color=\"white\" if cm[i, j] > thresh else \"black\")\n",
    "\n",
    "    plt.ylabel('True label')\n",
    "    plt.xlabel('Predicted label')\n",
    "    plt.tight_layout()\n",
    "\n",
    "\n",
    "def evaluate_multiclass(y_pred, y_eval, history):\n",
    "    #evaluation\n",
    "    from sklearn import metrics\n",
    "    print(metrics.classification_report(y_eval,y_pred, target_names=['Normal', 'Scan','DOS','Bruteforce','Malware']))\n",
    "    print(f\"Accuracy:{accuracy_score(y_eval,y_pred)*100}%\")\n",
    "    \n",
    "    # Plot normalized confusion matrix\n",
    "    cm = confusion_matrix(y_eval, y_pred)\n",
    "    class_names = ['Normal', 'Scan','DOS','Bruteforce','Malware']\n",
    "    plt.figure(figsize=(10,10))\n",
    "    plot_confusion_matrix(cm, classes=class_names, normalize=False,title='CONFUSION MATRIX \\n\\n Multiclass Classification \\n')\n",
    "    plt.show()\n",
    "\n",
    "    #plot model loss\n",
    "    plt.figure(figsize=(5,5))\n",
    "    plt.plot(history.history['loss'], linewidth=2, label='Train',color = 'Green')\n",
    "    plt.plot(history.history['val_loss'], linewidth=2, label='Valid',color ='Brown')\n",
    "    plt.legend(loc='upper right')\n",
    "    plt.title('MODEL LOSS CURVE')\n",
    "    plt.ylabel('Loss')\n",
    "    plt.xlabel('Epoch')\n",
    "    plt.show()\n",
    "\n",
    "    \n",
    "def evaluate(y_pred, y_eval, history, Attack_name):\n",
    "    #evaluation\n",
    "    print(f\"Accuracy:{accuracy_score(y_eval,y_pred)*100}%\")\n",
    "    print(f\"Precison:{precision_score(y_eval,y_pred)*100}\")\n",
    "    print(f\"Recall:{recall_score(y_eval,y_pred)*100}\")\n",
    "    print(f\"F1-Score:{f1_score(y_eval, y_pred) *100}\")\n",
    "    \n",
    "\n",
    "    # Plot normalized confusion matrix\n",
    "    cm = confusion_matrix(y_eval, y_pred)\n",
    "    class_names = ['Normal',Attack_name]\n",
    "    plt.figure(figsize=(5,5))\n",
    "    plot_confusion_matrix(cm, classes=class_names, normalize=False,title=f'CONFUSION MATRIX \\n Normal vs {Attack_name} \\n') \n",
    "    plt.show()\n",
    "\n",
    "    # Print ROC curve\n",
    "    fpr, tpr, thresholds = metrics.roc_curve(y_eval, y_pred,pos_label=1)\n",
    "    n = 20\n",
    "    x_interp = np.linspace(0,0.1,n+1)\n",
    "    y_interp = spline(fpr, tpr, x_interp, order=1)\n",
    "    plt.figure(figsize=(5,5))\n",
    "    plt.title(f'ROC CURVE \\n {Attack_name} Classification \\n')\n",
    "    plt.xlabel(\"FPR\")\n",
    "    plt.ylabel(\"TPR\")\n",
    "    plt.plot(x_interp,y_interp)\n",
    "    plt.show() \n",
    "#     print(x_interp, y_interp, thresholds)\n",
    "\n",
    "    # Print AUC\n",
    "    auc = np.trapz(tpr,fpr)\n",
    "    print('AUC:', auc)\n",
    "    \n",
    "    "
   ]
  },
  {
   "cell_type": "markdown",
   "metadata": {},
   "source": [
    "# Model definitions"
   ]
  },
  {
   "cell_type": "code",
   "execution_count": 80,
   "metadata": {},
   "outputs": [],
   "source": [
    "# Dense Neural Network\n",
    "#Dense Neural Network\n",
    "\n",
    "def dnnmodel(x,y):\n",
    "    \n",
    "    # Split into train/test\n",
    "    x_train, x_test, y_train, y_test = train_test_split(x, y, test_size=0.30, random_state=1000)\n",
    "\n",
    "\n",
    "    print(\"#### Training and Testing the model ####\")\n",
    "    # Create neural net\n",
    "    model = Sequential()\n",
    "    model.add(Dense(54, input_dim=x.shape[1], kernel_initializer='normal', activation='relu'))\n",
    "    model.add(Dense(y.shape[1],activation='softmax'))\n",
    "    \n",
    "    #compile model\n",
    "    model.compile(loss='categorical_crossentropy', optimizer='adam')\n",
    "    monitor = EarlyStopping(monitor='val_loss', min_delta=1e-3, patience=5, verbose=0, mode='auto')\n",
    "    history = model.fit(x_train,y_train,validation_data=(x_test,y_test),callbacks=[monitor],verbose=2,epochs=1000)\n",
    "    \n",
    "    #save model\n",
    "#     model.save(\"../models/modeldnnattack.hdf5\")\n",
    "    print(\"Saved model to disk\")\n",
    "    \n",
    "    #predict label\n",
    "    y_pred = model.predict(x_test)\n",
    "    y_pred = np.argmax(y_pred,axis=1)\n",
    "    y_test = np.argmax(y_test,axis=1)\n",
    "    \n",
    "    return y_pred ,  y_test, history\n",
    "\n",
    "#Lstm NeuraL Network\n",
    "\n",
    "def dnnmodel_multiclass():\n",
    "    x = df1.iloc[:,0:78].values  \n",
    "    y = df1.iloc[:,78:83].values\n",
    "    \n",
    "    #scale using minmaxscalar\n",
    "    scaler = StandardScaler()\n",
    "    x = scaler.fit_transform(x)\n",
    "    \n",
    "    # Split into train/test\n",
    "    x_train, x_test, y_train, y_test = train_test_split(x, y, test_size=0.30, random_state=1000)\n",
    "\n",
    "\n",
    "    print(\"#### Dense Neural Network ####\")\n",
    "    # Create neural net\n",
    "    model = Sequential()\n",
    "    model.add(Dense(x.shape[1], input_dim=x.shape[1], kernel_initializer='normal', activation='relu'))\n",
    "    model.add(Dense(y.shape[1],activation='softmax'))\n",
    "    \n",
    "    #compile model\n",
    "    model.compile(loss='categorical_crossentropy', optimizer='adam')\n",
    "    monitor = EarlyStopping(monitor='val_loss', min_delta=1e-5, patience=5, verbose=1, mode='auto')\n",
    "    history = model.fit(x_train,y_train,validation_data=(x_test,y_test),callbacks=[monitor],verbose=2,epochs=1000)\n",
    "    \n",
    "    #save model\n",
    "    model.save(\"../models/modeldnnoversample.hdf5\")\n",
    "    print(\"Saved model to disk\")\n",
    "    \n",
    "    #predict label\n",
    "    y_pred = model.predict(x_test)\n",
    "    y_pred = np.argmax(y_pred,axis=1)\n",
    "    y_eval = np.argmax(y_test,axis=1)\n",
    "    \n",
    "    #model summary\n",
    "    print(model.summary())\n",
    "    \n",
    "    return y_pred ,  y_eval, history\n",
    "\n",
    "\n",
    "def dnnmodel_multiclassf():\n",
    "    x = df1.iloc[:,0:35].values  \n",
    "    y = df1.iloc[:,35:41].values\n",
    "    \n",
    "    #scale using minmaxscalar\n",
    "    scaler = StandardScaler()\n",
    "    x = scaler.fit_transform(x)\n",
    "    \n",
    "    # Split into train/test\n",
    "    x_train, x_test, y_train, y_test = train_test_split(x, y, test_size=0.30, random_state=1000)\n",
    "\n",
    "\n",
    "    print(\"#### Dense Neural Network ####\")\n",
    "    # Create neural net\n",
    "    model = Sequential()\n",
    "    model.add(Dense(x.shape[1], input_dim=x.shape[1], kernel_initializer='normal', activation='relu'))\n",
    "    model.add(Dense(y.shape[1],activation='softmax'))\n",
    "    \n",
    "    #compile model\n",
    "    model.compile(loss='categorical_crossentropy', optimizer='adam')\n",
    "    monitor = EarlyStopping(monitor='val_loss', min_delta=1e-3, patience=5, verbose=1, mode='auto')\n",
    "    history = model.fit(x_train,y_train,validation_data=(x_test,y_test),callbacks=[monitor],verbose=2,epochs=1000)\n",
    "    \n",
    "    #save model\n",
    "    model.save(\"../models/modeldnnoversample35.hdf5\")\n",
    "    print(\"Saved model to disk\")\n",
    "    \n",
    "    #predict label\n",
    "    y_pred = model.predict(x_test)\n",
    "    y_pred = np.argmax(y_pred,axis=1)\n",
    "    y_eval = np.argmax(y_test,axis=1)\n",
    "    \n",
    "    #model summary\n",
    "    print(model.summary())\n",
    "    \n",
    "    return y_pred ,  y_eval, history\n",
    "\n",
    "\n",
    "\n",
    "#Lstm NeuraL Network\n",
    "def Lstm_model_multiclass():\n",
    "    x = df1.iloc[:,0:78].values  \n",
    "    y = df1.iloc[:,78:83].values\n",
    "    \n",
    "    # Feature Scaling\n",
    "    sc = StandardScaler()  \n",
    "    x = sc.fit_transform(x)  \n",
    "\n",
    "     # Split into train/test\n",
    "    x_train, x_test, y_train, y_test = train_test_split(x, y, test_size=0.30, random_state=1000)\n",
    "    \n",
    "    \n",
    "    # reshape input to be [samples, time steps, features]\n",
    "    x_train = np.reshape(x_train, (x_train.shape[0], 1, x_train.shape[1]))\n",
    "    x_test = np.reshape(x_test, (x_test.shape[0], 1, x_test.shape[1]))\n",
    "    \n",
    "    batch_size = 64\n",
    "    \n",
    "    # 1. define the network\n",
    "    model = Sequential()\n",
    "    model.add(LSTM(64,input_dim=78, return_sequences=True))  \n",
    "    model.add(LSTM(64, return_sequences=False)) \n",
    "    model.add(Dense(y.shape[1]))\n",
    "    model.add(Activation('sigmoid'))\n",
    "    \n",
    "    #model summary\n",
    "    print(model.summary())\n",
    "\n",
    "    # try using different optimizers and different optimizer configs\n",
    "    model.compile(loss='binary_crossentropy',optimizer='adam')\n",
    "    monitor = EarlyStopping(monitor='val_loss', min_delta=1e-3, patience=5, verbose=1, mode='auto')\n",
    "    history = model.fit(x_train,y_train,validation_data=(x_test,y_test),callbacks=[monitor],verbose=2,epochs=1000)\n",
    "   \n",
    "    #save model\n",
    "    model.save(\"../models/modeltestLSTM.hdf5\")\n",
    "    \n",
    "    #predict label\n",
    "    y_pred = model.predict(x_test)\n",
    "    y_pred = np.argmax(y_pred,axis=1)\n",
    "    y_test = np.argmax(y_test,axis=1)\n",
    "    \n",
    "     \n",
    "    return y_pred ,  y_test, history\n",
    "\n",
    "\n",
    "def dnnmodel_binary(df):\n",
    "    \n",
    "    x,y =  to_xy(df,'Label')\n",
    "    \n",
    "    # Split into train/test\n",
    "    x_train, x_test, y_train, y_test = train_test_split(x, y, test_size=0.30, random_state=1000)\n",
    "\n",
    "\n",
    "    print(\"#### Training and Testing the model ####\")\n",
    "    # Create neural net\n",
    "    model = Sequential()\n",
    "    model.add(Dense(54, input_dim=x.shape[1], kernel_initializer='normal', activation='relu'))\n",
    "    model.add(Dense(y.shape[1],activation='softmax'))\n",
    "    \n",
    "    #compile model\n",
    "    model.compile(loss='categorical_crossentropy', optimizer='adam')\n",
    "    monitor = EarlyStopping(monitor='val_loss', min_delta=1e-3, patience=5, verbose=0, mode='auto')\n",
    "    history = model.fit(x_train,y_train,validation_data=(x_test,y_test),callbacks=[monitor],verbose=2,epochs=1000)\n",
    "    \n",
    "    #save model\n",
    "    model.save(\"../models/modeltestdnnbinary.hdf5\")\n",
    "    print(\"Saved model to disk\")\n",
    "    \n",
    "    #predict label\n",
    "    y_pred = model.predict(x_test)\n",
    "    y_pred = np.argmax(y_pred,axis=1)\n",
    "    y_test = np.argmax(y_test,axis=1)\n",
    "    \n",
    "    return y_pred ,  y_test, history\n",
    "\n"
   ]
  },
  {
   "cell_type": "markdown",
   "metadata": {},
   "source": [
    "# Loading Data"
   ]
  },
  {
   "cell_type": "code",
   "execution_count": 81,
   "metadata": {},
   "outputs": [
    {
     "data": {
      "text/html": [
       "<div>\n",
       "<style scoped>\n",
       "    .dataframe tbody tr th:only-of-type {\n",
       "        vertical-align: middle;\n",
       "    }\n",
       "\n",
       "    .dataframe tbody tr th {\n",
       "        vertical-align: top;\n",
       "    }\n",
       "\n",
       "    .dataframe thead th {\n",
       "        text-align: right;\n",
       "    }\n",
       "</style>\n",
       "<table border=\"1\" class=\"dataframe\">\n",
       "  <thead>\n",
       "    <tr style=\"text-align: right;\">\n",
       "      <th></th>\n",
       "      <th>Flow ID</th>\n",
       "      <th>Src IP</th>\n",
       "      <th>Src Port</th>\n",
       "      <th>Dst IP</th>\n",
       "      <th>Dst Port</th>\n",
       "      <th>Protocol</th>\n",
       "      <th>Timestamp</th>\n",
       "      <th>Flow Duration</th>\n",
       "      <th>Tot Fwd Pkts</th>\n",
       "      <th>Tot Bwd Pkts</th>\n",
       "      <th>...</th>\n",
       "      <th>Active Mean</th>\n",
       "      <th>Active Std</th>\n",
       "      <th>Active Max</th>\n",
       "      <th>Active Min</th>\n",
       "      <th>Idle Mean</th>\n",
       "      <th>Idle Std</th>\n",
       "      <th>Idle Max</th>\n",
       "      <th>Idle Min</th>\n",
       "      <th>Label</th>\n",
       "      <th>SubLabel</th>\n",
       "    </tr>\n",
       "  </thead>\n",
       "  <tbody>\n",
       "    <tr>\n",
       "      <th>0</th>\n",
       "      <td>192.168.10.9-110.44.113.201-59647-53-17</td>\n",
       "      <td>192.168.10.9</td>\n",
       "      <td>59647</td>\n",
       "      <td>110.44.113.201</td>\n",
       "      <td>53</td>\n",
       "      <td>17</td>\n",
       "      <td>26/07/2019 12:32:22 PM</td>\n",
       "      <td>63959</td>\n",
       "      <td>0</td>\n",
       "      <td>2</td>\n",
       "      <td>...</td>\n",
       "      <td>0.0</td>\n",
       "      <td>0.0</td>\n",
       "      <td>0</td>\n",
       "      <td>0</td>\n",
       "      <td>0.000000e+00</td>\n",
       "      <td>0.000000e+00</td>\n",
       "      <td>0</td>\n",
       "      <td>0</td>\n",
       "      <td>Normal</td>\n",
       "      <td>Normal</td>\n",
       "    </tr>\n",
       "    <tr>\n",
       "      <th>1</th>\n",
       "      <td>192.168.10.100-8.8.8.8-54856-53-17</td>\n",
       "      <td>192.168.10.100</td>\n",
       "      <td>54856</td>\n",
       "      <td>8.8.8.8</td>\n",
       "      <td>53</td>\n",
       "      <td>17</td>\n",
       "      <td>22/07/2019 02:29:44 PM</td>\n",
       "      <td>103048</td>\n",
       "      <td>0</td>\n",
       "      <td>2</td>\n",
       "      <td>...</td>\n",
       "      <td>0.0</td>\n",
       "      <td>0.0</td>\n",
       "      <td>0</td>\n",
       "      <td>0</td>\n",
       "      <td>0.000000e+00</td>\n",
       "      <td>0.000000e+00</td>\n",
       "      <td>0</td>\n",
       "      <td>0</td>\n",
       "      <td>Normal</td>\n",
       "      <td>Normal</td>\n",
       "    </tr>\n",
       "    <tr>\n",
       "      <th>2</th>\n",
       "      <td>192.168.10.2-192.168.10.6-80-27052-6</td>\n",
       "      <td>192.168.10.6</td>\n",
       "      <td>27052</td>\n",
       "      <td>192.168.10.2</td>\n",
       "      <td>80</td>\n",
       "      <td>6</td>\n",
       "      <td>26/07/2019 03:28:33 PM</td>\n",
       "      <td>34937948</td>\n",
       "      <td>1</td>\n",
       "      <td>1</td>\n",
       "      <td>...</td>\n",
       "      <td>0.0</td>\n",
       "      <td>0.0</td>\n",
       "      <td>0</td>\n",
       "      <td>0</td>\n",
       "      <td>0.000000e+00</td>\n",
       "      <td>0.000000e+00</td>\n",
       "      <td>0</td>\n",
       "      <td>0</td>\n",
       "      <td>Attack</td>\n",
       "      <td>SYN FIN Flood</td>\n",
       "    </tr>\n",
       "    <tr>\n",
       "      <th>3</th>\n",
       "      <td>185.82.212.199-192.168.10.9-80-32860-6</td>\n",
       "      <td>192.168.10.9</td>\n",
       "      <td>32860</td>\n",
       "      <td>185.82.212.199</td>\n",
       "      <td>80</td>\n",
       "      <td>6</td>\n",
       "      <td>26/07/2019 12:26:03 PM</td>\n",
       "      <td>64812032</td>\n",
       "      <td>6</td>\n",
       "      <td>1</td>\n",
       "      <td>...</td>\n",
       "      <td>7087197.0</td>\n",
       "      <td>0.0</td>\n",
       "      <td>7087197</td>\n",
       "      <td>7087197</td>\n",
       "      <td>1.924161e+07</td>\n",
       "      <td>1.289346e+07</td>\n",
       "      <td>33406563</td>\n",
       "      <td>8189633</td>\n",
       "      <td>Normal</td>\n",
       "      <td>Normal</td>\n",
       "    </tr>\n",
       "    <tr>\n",
       "      <th>4</th>\n",
       "      <td>192.168.10.7-239.255.255.250-0-0-0</td>\n",
       "      <td>192.168.10.7</td>\n",
       "      <td>0</td>\n",
       "      <td>239.255.255.250</td>\n",
       "      <td>0</td>\n",
       "      <td>0</td>\n",
       "      <td>22/07/2019 02:32:46 PM</td>\n",
       "      <td>119825401</td>\n",
       "      <td>6</td>\n",
       "      <td>1</td>\n",
       "      <td>...</td>\n",
       "      <td>0.0</td>\n",
       "      <td>0.0</td>\n",
       "      <td>0</td>\n",
       "      <td>0</td>\n",
       "      <td>2.380801e+07</td>\n",
       "      <td>1.594520e+07</td>\n",
       "      <td>48978764</td>\n",
       "      <td>7989707</td>\n",
       "      <td>Normal</td>\n",
       "      <td>Normal</td>\n",
       "    </tr>\n",
       "  </tbody>\n",
       "</table>\n",
       "<p>5 rows × 85 columns</p>\n",
       "</div>"
      ],
      "text/plain": [
       "                                   Flow ID          Src IP  Src Port  \\\n",
       "0  192.168.10.9-110.44.113.201-59647-53-17    192.168.10.9     59647   \n",
       "1       192.168.10.100-8.8.8.8-54856-53-17  192.168.10.100     54856   \n",
       "2     192.168.10.2-192.168.10.6-80-27052-6    192.168.10.6     27052   \n",
       "3   185.82.212.199-192.168.10.9-80-32860-6    192.168.10.9     32860   \n",
       "4       192.168.10.7-239.255.255.250-0-0-0    192.168.10.7         0   \n",
       "\n",
       "            Dst IP  Dst Port  Protocol               Timestamp  Flow Duration  \\\n",
       "0   110.44.113.201        53        17  26/07/2019 12:32:22 PM          63959   \n",
       "1          8.8.8.8        53        17  22/07/2019 02:29:44 PM         103048   \n",
       "2     192.168.10.2        80         6  26/07/2019 03:28:33 PM       34937948   \n",
       "3   185.82.212.199        80         6  26/07/2019 12:26:03 PM       64812032   \n",
       "4  239.255.255.250         0         0  22/07/2019 02:32:46 PM      119825401   \n",
       "\n",
       "   Tot Fwd Pkts  Tot Bwd Pkts  ...  Active Mean  Active Std  Active Max  \\\n",
       "0             0             2  ...          0.0         0.0           0   \n",
       "1             0             2  ...          0.0         0.0           0   \n",
       "2             1             1  ...          0.0         0.0           0   \n",
       "3             6             1  ...    7087197.0         0.0     7087197   \n",
       "4             6             1  ...          0.0         0.0           0   \n",
       "\n",
       "   Active Min     Idle Mean      Idle Std  Idle Max  Idle Min   Label  \\\n",
       "0           0  0.000000e+00  0.000000e+00         0         0  Normal   \n",
       "1           0  0.000000e+00  0.000000e+00         0         0  Normal   \n",
       "2           0  0.000000e+00  0.000000e+00         0         0  Attack   \n",
       "3     7087197  1.924161e+07  1.289346e+07  33406563   8189633  Normal   \n",
       "4           0  2.380801e+07  1.594520e+07  48978764   7989707  Normal   \n",
       "\n",
       "        SubLabel  \n",
       "0         Normal  \n",
       "1         Normal  \n",
       "2  SYN FIN Flood  \n",
       "3         Normal  \n",
       "4         Normal  \n",
       "\n",
       "[5 rows x 85 columns]"
      ]
     },
     "execution_count": 81,
     "metadata": {},
     "output_type": "execute_result"
    }
   ],
   "source": [
    "df = load_data()\n",
    "\n",
    "#Sample view of dataset\n",
    "df.head()\n"
   ]
  },
  {
   "cell_type": "markdown",
   "metadata": {},
   "source": [
    "# Statistical Summary"
   ]
  },
  {
   "cell_type": "code",
   "execution_count": 82,
   "metadata": {},
   "outputs": [
    {
     "data": {
      "text/html": [
       "<div>\n",
       "<style scoped>\n",
       "    .dataframe tbody tr th:only-of-type {\n",
       "        vertical-align: middle;\n",
       "    }\n",
       "\n",
       "    .dataframe tbody tr th {\n",
       "        vertical-align: top;\n",
       "    }\n",
       "\n",
       "    .dataframe thead th {\n",
       "        text-align: right;\n",
       "    }\n",
       "</style>\n",
       "<table border=\"1\" class=\"dataframe\">\n",
       "  <thead>\n",
       "    <tr style=\"text-align: right;\">\n",
       "      <th></th>\n",
       "      <th>Src Port</th>\n",
       "      <th>Dst Port</th>\n",
       "      <th>Protocol</th>\n",
       "      <th>Flow Duration</th>\n",
       "      <th>Tot Fwd Pkts</th>\n",
       "      <th>Tot Bwd Pkts</th>\n",
       "      <th>TotLen Fwd Pkts</th>\n",
       "      <th>TotLen Bwd Pkts</th>\n",
       "      <th>Fwd Pkt Len Max</th>\n",
       "      <th>Fwd Pkt Len Min</th>\n",
       "      <th>...</th>\n",
       "      <th>Fwd Act Data Pkts</th>\n",
       "      <th>Fwd Seg Size Min</th>\n",
       "      <th>Active Mean</th>\n",
       "      <th>Active Std</th>\n",
       "      <th>Active Max</th>\n",
       "      <th>Active Min</th>\n",
       "      <th>Idle Mean</th>\n",
       "      <th>Idle Std</th>\n",
       "      <th>Idle Max</th>\n",
       "      <th>Idle Min</th>\n",
       "    </tr>\n",
       "  </thead>\n",
       "  <tbody>\n",
       "    <tr>\n",
       "      <th>count</th>\n",
       "      <td>70456.000000</td>\n",
       "      <td>70456.000000</td>\n",
       "      <td>70456.000000</td>\n",
       "      <td>7.045600e+04</td>\n",
       "      <td>70456.000000</td>\n",
       "      <td>70456.000000</td>\n",
       "      <td>7.045600e+04</td>\n",
       "      <td>7.045600e+04</td>\n",
       "      <td>70456.000000</td>\n",
       "      <td>70456.000000</td>\n",
       "      <td>...</td>\n",
       "      <td>70456.000000</td>\n",
       "      <td>70456.0</td>\n",
       "      <td>7.045600e+04</td>\n",
       "      <td>7.045600e+04</td>\n",
       "      <td>7.045600e+04</td>\n",
       "      <td>7.045600e+04</td>\n",
       "      <td>7.045600e+04</td>\n",
       "      <td>7.045600e+04</td>\n",
       "      <td>7.045600e+04</td>\n",
       "      <td>7.045600e+04</td>\n",
       "    </tr>\n",
       "    <tr>\n",
       "      <th>mean</th>\n",
       "      <td>42656.019445</td>\n",
       "      <td>13066.237978</td>\n",
       "      <td>8.899285</td>\n",
       "      <td>1.698287e+07</td>\n",
       "      <td>33.167523</td>\n",
       "      <td>34.191609</td>\n",
       "      <td>2.048875e+04</td>\n",
       "      <td>2.285805e+04</td>\n",
       "      <td>140.938600</td>\n",
       "      <td>7.777336</td>\n",
       "      <td>...</td>\n",
       "      <td>16.831384</td>\n",
       "      <td>0.0</td>\n",
       "      <td>5.205629e+05</td>\n",
       "      <td>1.116933e+05</td>\n",
       "      <td>6.421701e+05</td>\n",
       "      <td>4.409133e+05</td>\n",
       "      <td>6.342716e+06</td>\n",
       "      <td>9.650414e+05</td>\n",
       "      <td>7.228971e+06</td>\n",
       "      <td>5.572509e+06</td>\n",
       "    </tr>\n",
       "    <tr>\n",
       "      <th>std</th>\n",
       "      <td>19711.668361</td>\n",
       "      <td>20692.644673</td>\n",
       "      <td>4.909369</td>\n",
       "      <td>3.180906e+07</td>\n",
       "      <td>1080.697703</td>\n",
       "      <td>1047.846169</td>\n",
       "      <td>7.037731e+05</td>\n",
       "      <td>4.622271e+05</td>\n",
       "      <td>411.583824</td>\n",
       "      <td>42.708553</td>\n",
       "      <td>...</td>\n",
       "      <td>445.823474</td>\n",
       "      <td>0.0</td>\n",
       "      <td>2.497573e+06</td>\n",
       "      <td>8.709950e+05</td>\n",
       "      <td>2.887033e+06</td>\n",
       "      <td>2.370201e+06</td>\n",
       "      <td>1.364493e+07</td>\n",
       "      <td>5.194512e+06</td>\n",
       "      <td>1.583098e+07</td>\n",
       "      <td>1.281572e+07</td>\n",
       "    </tr>\n",
       "    <tr>\n",
       "      <th>min</th>\n",
       "      <td>0.000000</td>\n",
       "      <td>0.000000</td>\n",
       "      <td>0.000000</td>\n",
       "      <td>0.000000e+00</td>\n",
       "      <td>0.000000</td>\n",
       "      <td>1.000000</td>\n",
       "      <td>0.000000e+00</td>\n",
       "      <td>0.000000e+00</td>\n",
       "      <td>0.000000</td>\n",
       "      <td>0.000000</td>\n",
       "      <td>...</td>\n",
       "      <td>0.000000</td>\n",
       "      <td>0.0</td>\n",
       "      <td>0.000000e+00</td>\n",
       "      <td>0.000000e+00</td>\n",
       "      <td>0.000000e+00</td>\n",
       "      <td>0.000000e+00</td>\n",
       "      <td>0.000000e+00</td>\n",
       "      <td>0.000000e+00</td>\n",
       "      <td>0.000000e+00</td>\n",
       "      <td>0.000000e+00</td>\n",
       "    </tr>\n",
       "    <tr>\n",
       "      <th>25%</th>\n",
       "      <td>37191.250000</td>\n",
       "      <td>68.000000</td>\n",
       "      <td>6.000000</td>\n",
       "      <td>3.469750e+03</td>\n",
       "      <td>0.000000</td>\n",
       "      <td>1.000000</td>\n",
       "      <td>0.000000e+00</td>\n",
       "      <td>0.000000e+00</td>\n",
       "      <td>0.000000</td>\n",
       "      <td>0.000000</td>\n",
       "      <td>...</td>\n",
       "      <td>0.000000</td>\n",
       "      <td>0.0</td>\n",
       "      <td>0.000000e+00</td>\n",
       "      <td>0.000000e+00</td>\n",
       "      <td>0.000000e+00</td>\n",
       "      <td>0.000000e+00</td>\n",
       "      <td>0.000000e+00</td>\n",
       "      <td>0.000000e+00</td>\n",
       "      <td>0.000000e+00</td>\n",
       "      <td>0.000000e+00</td>\n",
       "    </tr>\n",
       "    <tr>\n",
       "      <th>50%</th>\n",
       "      <td>51413.000000</td>\n",
       "      <td>443.000000</td>\n",
       "      <td>6.000000</td>\n",
       "      <td>4.362390e+05</td>\n",
       "      <td>1.000000</td>\n",
       "      <td>2.000000</td>\n",
       "      <td>0.000000e+00</td>\n",
       "      <td>1.000000e+00</td>\n",
       "      <td>0.000000</td>\n",
       "      <td>0.000000</td>\n",
       "      <td>...</td>\n",
       "      <td>0.000000</td>\n",
       "      <td>0.0</td>\n",
       "      <td>0.000000e+00</td>\n",
       "      <td>0.000000e+00</td>\n",
       "      <td>0.000000e+00</td>\n",
       "      <td>0.000000e+00</td>\n",
       "      <td>0.000000e+00</td>\n",
       "      <td>0.000000e+00</td>\n",
       "      <td>0.000000e+00</td>\n",
       "      <td>0.000000e+00</td>\n",
       "    </tr>\n",
       "    <tr>\n",
       "      <th>75%</th>\n",
       "      <td>55885.000000</td>\n",
       "      <td>20031.000000</td>\n",
       "      <td>17.000000</td>\n",
       "      <td>1.132589e+07</td>\n",
       "      <td>3.000000</td>\n",
       "      <td>4.000000</td>\n",
       "      <td>9.600000e+01</td>\n",
       "      <td>1.870000e+02</td>\n",
       "      <td>54.000000</td>\n",
       "      <td>0.000000</td>\n",
       "      <td>...</td>\n",
       "      <td>1.000000</td>\n",
       "      <td>0.0</td>\n",
       "      <td>0.000000e+00</td>\n",
       "      <td>0.000000e+00</td>\n",
       "      <td>0.000000e+00</td>\n",
       "      <td>0.000000e+00</td>\n",
       "      <td>6.000496e+06</td>\n",
       "      <td>0.000000e+00</td>\n",
       "      <td>6.000520e+06</td>\n",
       "      <td>5.997663e+06</td>\n",
       "    </tr>\n",
       "    <tr>\n",
       "      <th>max</th>\n",
       "      <td>65535.000000</td>\n",
       "      <td>65530.000000</td>\n",
       "      <td>17.000000</td>\n",
       "      <td>1.200000e+08</td>\n",
       "      <td>172161.000000</td>\n",
       "      <td>171867.000000</td>\n",
       "      <td>4.468043e+07</td>\n",
       "      <td>4.455589e+07</td>\n",
       "      <td>20272.000000</td>\n",
       "      <td>1360.000000</td>\n",
       "      <td>...</td>\n",
       "      <td>30825.000000</td>\n",
       "      <td>0.0</td>\n",
       "      <td>1.099361e+08</td>\n",
       "      <td>5.162984e+07</td>\n",
       "      <td>1.099361e+08</td>\n",
       "      <td>1.099361e+08</td>\n",
       "      <td>1.199999e+08</td>\n",
       "      <td>7.402181e+07</td>\n",
       "      <td>1.199999e+08</td>\n",
       "      <td>1.199999e+08</td>\n",
       "    </tr>\n",
       "  </tbody>\n",
       "</table>\n",
       "<p>8 rows × 77 columns</p>\n",
       "</div>"
      ],
      "text/plain": [
       "           Src Port      Dst Port      Protocol  Flow Duration   Tot Fwd Pkts  \\\n",
       "count  70456.000000  70456.000000  70456.000000   7.045600e+04   70456.000000   \n",
       "mean   42656.019445  13066.237978      8.899285   1.698287e+07      33.167523   \n",
       "std    19711.668361  20692.644673      4.909369   3.180906e+07    1080.697703   \n",
       "min        0.000000      0.000000      0.000000   0.000000e+00       0.000000   \n",
       "25%    37191.250000     68.000000      6.000000   3.469750e+03       0.000000   \n",
       "50%    51413.000000    443.000000      6.000000   4.362390e+05       1.000000   \n",
       "75%    55885.000000  20031.000000     17.000000   1.132589e+07       3.000000   \n",
       "max    65535.000000  65530.000000     17.000000   1.200000e+08  172161.000000   \n",
       "\n",
       "        Tot Bwd Pkts  TotLen Fwd Pkts  TotLen Bwd Pkts  Fwd Pkt Len Max  \\\n",
       "count   70456.000000     7.045600e+04     7.045600e+04     70456.000000   \n",
       "mean       34.191609     2.048875e+04     2.285805e+04       140.938600   \n",
       "std      1047.846169     7.037731e+05     4.622271e+05       411.583824   \n",
       "min         1.000000     0.000000e+00     0.000000e+00         0.000000   \n",
       "25%         1.000000     0.000000e+00     0.000000e+00         0.000000   \n",
       "50%         2.000000     0.000000e+00     1.000000e+00         0.000000   \n",
       "75%         4.000000     9.600000e+01     1.870000e+02        54.000000   \n",
       "max    171867.000000     4.468043e+07     4.455589e+07     20272.000000   \n",
       "\n",
       "       Fwd Pkt Len Min  ...  Fwd Act Data Pkts  Fwd Seg Size Min  \\\n",
       "count     70456.000000  ...       70456.000000           70456.0   \n",
       "mean          7.777336  ...          16.831384               0.0   \n",
       "std          42.708553  ...         445.823474               0.0   \n",
       "min           0.000000  ...           0.000000               0.0   \n",
       "25%           0.000000  ...           0.000000               0.0   \n",
       "50%           0.000000  ...           0.000000               0.0   \n",
       "75%           0.000000  ...           1.000000               0.0   \n",
       "max        1360.000000  ...       30825.000000               0.0   \n",
       "\n",
       "        Active Mean    Active Std    Active Max    Active Min     Idle Mean  \\\n",
       "count  7.045600e+04  7.045600e+04  7.045600e+04  7.045600e+04  7.045600e+04   \n",
       "mean   5.205629e+05  1.116933e+05  6.421701e+05  4.409133e+05  6.342716e+06   \n",
       "std    2.497573e+06  8.709950e+05  2.887033e+06  2.370201e+06  1.364493e+07   \n",
       "min    0.000000e+00  0.000000e+00  0.000000e+00  0.000000e+00  0.000000e+00   \n",
       "25%    0.000000e+00  0.000000e+00  0.000000e+00  0.000000e+00  0.000000e+00   \n",
       "50%    0.000000e+00  0.000000e+00  0.000000e+00  0.000000e+00  0.000000e+00   \n",
       "75%    0.000000e+00  0.000000e+00  0.000000e+00  0.000000e+00  6.000496e+06   \n",
       "max    1.099361e+08  5.162984e+07  1.099361e+08  1.099361e+08  1.199999e+08   \n",
       "\n",
       "           Idle Std      Idle Max      Idle Min  \n",
       "count  7.045600e+04  7.045600e+04  7.045600e+04  \n",
       "mean   9.650414e+05  7.228971e+06  5.572509e+06  \n",
       "std    5.194512e+06  1.583098e+07  1.281572e+07  \n",
       "min    0.000000e+00  0.000000e+00  0.000000e+00  \n",
       "25%    0.000000e+00  0.000000e+00  0.000000e+00  \n",
       "50%    0.000000e+00  0.000000e+00  0.000000e+00  \n",
       "75%    0.000000e+00  6.000520e+06  5.997663e+06  \n",
       "max    7.402181e+07  1.199999e+08  1.199999e+08  \n",
       "\n",
       "[8 rows x 77 columns]"
      ]
     },
     "execution_count": 82,
     "metadata": {},
     "output_type": "execute_result"
    }
   ],
   "source": [
    "df.describe()"
   ]
  },
  {
   "cell_type": "markdown",
   "metadata": {},
   "source": [
    "# Label Distribution of Dataset"
   ]
  },
  {
   "cell_type": "code",
   "execution_count": 83,
   "metadata": {},
   "outputs": [
    {
     "name": "stdout",
     "output_type": "stream",
     "text": [
      "Label distribution of data set:\n",
      "Normal                  45048\n",
      "DOS goldeneye            2860\n",
      "FTP Bruteforce           2708\n",
      "FTP Bounce Scan          2258\n",
      "SYN FIN Flood            2156\n",
      "Host Scan                2107\n",
      "SSH BruteForce           1991\n",
      "Port Scan                1966\n",
      "ACK Scan                 1819\n",
      "UDP Flood                1382\n",
      "MySql BruteForce         1373\n",
      "Push ACK Flood           1311\n",
      "TCP SYN Scan             1000\n",
      "Xmas Scan                 997\n",
      "FIN Scan                  997\n",
      "Malware Infiltration      449\n",
      "DOS Slowloris              31\n",
      "ICMP Flood                  3\n",
      "Name: SubLabel, dtype: int64\n",
      "\n"
     ]
    }
   ],
   "source": [
    "print('Label distribution of data set:')\n",
    "print(df['SubLabel'].value_counts())\n",
    "print()\n"
   ]
  },
  {
   "cell_type": "markdown",
   "metadata": {},
   "source": [
    "# Step 1: Preprocessing and Encoding data"
   ]
  },
  {
   "cell_type": "code",
   "execution_count": 84,
   "metadata": {},
   "outputs": [
    {
     "name": "stdout",
     "output_type": "stream",
     "text": [
      "Shape of data: (70456, 85)\n",
      "Total number of features :  85\n",
      "\n",
      "----Dropping features---\n",
      "Number of features :  80\n",
      "\n",
      "----Encoding categorical data---\n"
     ]
    },
    {
     "data": {
      "text/html": [
       "<div>\n",
       "<style scoped>\n",
       "    .dataframe tbody tr th:only-of-type {\n",
       "        vertical-align: middle;\n",
       "    }\n",
       "\n",
       "    .dataframe tbody tr th {\n",
       "        vertical-align: top;\n",
       "    }\n",
       "\n",
       "    .dataframe thead th {\n",
       "        text-align: right;\n",
       "    }\n",
       "</style>\n",
       "<table border=\"1\" class=\"dataframe\">\n",
       "  <thead>\n",
       "    <tr style=\"text-align: right;\">\n",
       "      <th></th>\n",
       "      <th>Dst Port</th>\n",
       "      <th>Protocol</th>\n",
       "      <th>Flow Duration</th>\n",
       "      <th>Tot Fwd Pkts</th>\n",
       "      <th>Tot Bwd Pkts</th>\n",
       "      <th>TotLen Fwd Pkts</th>\n",
       "      <th>TotLen Bwd Pkts</th>\n",
       "      <th>Fwd Pkt Len Max</th>\n",
       "      <th>Fwd Pkt Len Min</th>\n",
       "      <th>Fwd Pkt Len Mean</th>\n",
       "      <th>...</th>\n",
       "      <th>Active Mean</th>\n",
       "      <th>Active Std</th>\n",
       "      <th>Active Max</th>\n",
       "      <th>Active Min</th>\n",
       "      <th>Idle Mean</th>\n",
       "      <th>Idle Std</th>\n",
       "      <th>Idle Max</th>\n",
       "      <th>Idle Min</th>\n",
       "      <th>Label</th>\n",
       "      <th>SubLabel</th>\n",
       "    </tr>\n",
       "  </thead>\n",
       "  <tbody>\n",
       "    <tr>\n",
       "      <th>0</th>\n",
       "      <td>80</td>\n",
       "      <td>17</td>\n",
       "      <td>44439236</td>\n",
       "      <td>1</td>\n",
       "      <td>1</td>\n",
       "      <td>0</td>\n",
       "      <td>0</td>\n",
       "      <td>0</td>\n",
       "      <td>0</td>\n",
       "      <td>0.0</td>\n",
       "      <td>...</td>\n",
       "      <td>0.0</td>\n",
       "      <td>0.0</td>\n",
       "      <td>0</td>\n",
       "      <td>0</td>\n",
       "      <td>44439236.0</td>\n",
       "      <td>0.0</td>\n",
       "      <td>44439236</td>\n",
       "      <td>44439236</td>\n",
       "      <td>Attack</td>\n",
       "      <td>5</td>\n",
       "    </tr>\n",
       "    <tr>\n",
       "      <th>1</th>\n",
       "      <td>6969</td>\n",
       "      <td>6</td>\n",
       "      <td>15420885</td>\n",
       "      <td>4</td>\n",
       "      <td>1</td>\n",
       "      <td>0</td>\n",
       "      <td>0</td>\n",
       "      <td>0</td>\n",
       "      <td>0</td>\n",
       "      <td>0.0</td>\n",
       "      <td>...</td>\n",
       "      <td>7225231.0</td>\n",
       "      <td>0.0</td>\n",
       "      <td>7225231</td>\n",
       "      <td>7225231</td>\n",
       "      <td>8195654.0</td>\n",
       "      <td>0.0</td>\n",
       "      <td>8195654</td>\n",
       "      <td>8195654</td>\n",
       "      <td>Normal</td>\n",
       "      <td>0</td>\n",
       "    </tr>\n",
       "    <tr>\n",
       "      <th>2</th>\n",
       "      <td>53</td>\n",
       "      <td>17</td>\n",
       "      <td>57810</td>\n",
       "      <td>0</td>\n",
       "      <td>2</td>\n",
       "      <td>0</td>\n",
       "      <td>154</td>\n",
       "      <td>0</td>\n",
       "      <td>0</td>\n",
       "      <td>0.0</td>\n",
       "      <td>...</td>\n",
       "      <td>0.0</td>\n",
       "      <td>0.0</td>\n",
       "      <td>0</td>\n",
       "      <td>0</td>\n",
       "      <td>0.0</td>\n",
       "      <td>0.0</td>\n",
       "      <td>0</td>\n",
       "      <td>0</td>\n",
       "      <td>Normal</td>\n",
       "      <td>0</td>\n",
       "    </tr>\n",
       "    <tr>\n",
       "      <th>3</th>\n",
       "      <td>53</td>\n",
       "      <td>17</td>\n",
       "      <td>8144</td>\n",
       "      <td>1</td>\n",
       "      <td>3</td>\n",
       "      <td>33</td>\n",
       "      <td>419</td>\n",
       "      <td>33</td>\n",
       "      <td>33</td>\n",
       "      <td>33.0</td>\n",
       "      <td>...</td>\n",
       "      <td>0.0</td>\n",
       "      <td>0.0</td>\n",
       "      <td>0</td>\n",
       "      <td>0</td>\n",
       "      <td>0.0</td>\n",
       "      <td>0.0</td>\n",
       "      <td>0</td>\n",
       "      <td>0</td>\n",
       "      <td>Normal</td>\n",
       "      <td>0</td>\n",
       "    </tr>\n",
       "    <tr>\n",
       "      <th>4</th>\n",
       "      <td>53</td>\n",
       "      <td>6</td>\n",
       "      <td>2904</td>\n",
       "      <td>0</td>\n",
       "      <td>2</td>\n",
       "      <td>0</td>\n",
       "      <td>0</td>\n",
       "      <td>0</td>\n",
       "      <td>0</td>\n",
       "      <td>0.0</td>\n",
       "      <td>...</td>\n",
       "      <td>0.0</td>\n",
       "      <td>0.0</td>\n",
       "      <td>0</td>\n",
       "      <td>0</td>\n",
       "      <td>0.0</td>\n",
       "      <td>0.0</td>\n",
       "      <td>0</td>\n",
       "      <td>0</td>\n",
       "      <td>Normal</td>\n",
       "      <td>0</td>\n",
       "    </tr>\n",
       "  </tbody>\n",
       "</table>\n",
       "<p>5 rows × 80 columns</p>\n",
       "</div>"
      ],
      "text/plain": [
       "   Dst Port  Protocol  Flow Duration  Tot Fwd Pkts  Tot Bwd Pkts  \\\n",
       "0        80        17       44439236             1             1   \n",
       "1      6969         6       15420885             4             1   \n",
       "2        53        17          57810             0             2   \n",
       "3        53        17           8144             1             3   \n",
       "4        53         6           2904             0             2   \n",
       "\n",
       "   TotLen Fwd Pkts  TotLen Bwd Pkts  Fwd Pkt Len Max  Fwd Pkt Len Min  \\\n",
       "0                0                0                0                0   \n",
       "1                0                0                0                0   \n",
       "2                0              154                0                0   \n",
       "3               33              419               33               33   \n",
       "4                0                0                0                0   \n",
       "\n",
       "   Fwd Pkt Len Mean  ...  Active Mean  Active Std  Active Max  Active Min  \\\n",
       "0               0.0  ...          0.0         0.0           0           0   \n",
       "1               0.0  ...    7225231.0         0.0     7225231     7225231   \n",
       "2               0.0  ...          0.0         0.0           0           0   \n",
       "3              33.0  ...          0.0         0.0           0           0   \n",
       "4               0.0  ...          0.0         0.0           0           0   \n",
       "\n",
       "    Idle Mean  Idle Std  Idle Max  Idle Min   Label  SubLabel  \n",
       "0  44439236.0       0.0  44439236  44439236  Attack         5  \n",
       "1   8195654.0       0.0   8195654   8195654  Normal         0  \n",
       "2         0.0       0.0         0         0  Normal         0  \n",
       "3         0.0       0.0         0         0  Normal         0  \n",
       "4         0.0       0.0         0         0  Normal         0  \n",
       "\n",
       "[5 rows x 80 columns]"
      ]
     },
     "execution_count": 84,
     "metadata": {},
     "output_type": "execute_result"
    }
   ],
   "source": [
    "print(\"Shape of data:\",df.shape)\n",
    "preprocess(df)\n",
    "\n",
    "#changing data type\n",
    "df['Flow Byts/s'] = df['Flow Byts/s'].astype('float32')\n",
    "df['Flow Pkts/s'] = df['Flow Pkts/s'].astype('float32')\n",
    "df = df.replace([np.inf, -np.inf], np.nan)\n",
    "df = df.dropna()\n",
    "df = df.sample(frac=1).reset_index(drop=True)\n",
    "\n",
    "df.head()\n"
   ]
  },
  {
   "cell_type": "code",
   "execution_count": 85,
   "metadata": {
    "scrolled": true
   },
   "outputs": [
    {
     "name": "stdout",
     "output_type": "stream",
     "text": [
      "0    44769\n",
      "5    16532\n",
      "2     3470\n",
      "1     2966\n",
      "3     1991\n",
      "4      449\n",
      "Name: SubLabel, dtype: int64\n"
     ]
    }
   ],
   "source": [
    "df.shape\n",
    "print(df['SubLabel'].value_counts())"
   ]
  },
  {
   "cell_type": "markdown",
   "metadata": {},
   "source": [
    "## Split Dataset into 5 datasets for every attack category"
   ]
  },
  {
   "cell_type": "code",
   "execution_count": 86,
   "metadata": {},
   "outputs": [],
   "source": [
    "df_original = df.copy()\n",
    "df = oversample(df)\n",
    "df1=df.copy()\n",
    "df= df.sample(frac=1).reset_index(drop=True) \n",
    "df1= df1.sample(frac=1).reset_index(drop=True)\n",
    "df1.drop(['Label'], inplace = True , axis=1)\n",
    "df.drop(['SubLabel'], inplace = True , axis=1)"
   ]
  },
  {
   "cell_type": "code",
   "execution_count": 87,
   "metadata": {},
   "outputs": [],
   "source": [
    "#Scan\n",
    "df_Scan = df1.drop(df1[(df1.SubLabel!= 1) & (df1.SubLabel!= 0)].index)\n",
    "#DOS attack\n",
    "df_DOS = df1.drop(df1[(df1.SubLabel!= 2) & (df1.SubLabel!= 0) ].index)\n",
    "#BruteForce\n",
    "df_SSHBruteForce = df1.drop(df1[(df1.SubLabel!= 3) & (df1.SubLabel!= 0) ].index)\n",
    "#Malware\n",
    "df_Malware = df1.drop(df1[(df1.SubLabel!= 4) & (df1.SubLabel!= 0) ].index)\n"
   ]
  },
  {
   "cell_type": "code",
   "execution_count": 88,
   "metadata": {
    "scrolled": true
   },
   "outputs": [
    {
     "name": "stdout",
     "output_type": "stream",
     "text": [
      "5    44769\n",
      "4    44769\n",
      "3    44769\n",
      "2    44769\n",
      "1    44769\n",
      "0    44769\n",
      "Name: SubLabel, dtype: int64\n"
     ]
    }
   ],
   "source": [
    "print(df1['SubLabel'].value_counts())"
   ]
  },
  {
   "cell_type": "markdown",
   "metadata": {},
   "source": [
    "# Step 2: Feature Scaling:"
   ]
  },
  {
   "cell_type": "code",
   "execution_count": 89,
   "metadata": {},
   "outputs": [],
   "source": [
    "# Split dataframes into X & Y\n",
    "# assign X as a dataframe of feautures and Y as a series of outcome variables\n",
    "\n",
    "X_Scan,Y_Scan = to_xy(df_Scan,'SubLabel')\n",
    "Y_ScanF = df_Scan.SubLabel\n",
    "\n",
    "X_DOS,Y_DOS = to_xy(df_DOS,'SubLabel')\n",
    "Y_DOSF = df_DOS.SubLabel\n",
    "\n",
    "X_SSHBruteForce,Y_SSHBruteForce = to_xy(df_SSHBruteForce,'SubLabel')\n",
    "Y_SSHBruteForceF = df_SSHBruteForce.SubLabel\n",
    "\n",
    "X_Malware,Y_Malware = to_xy(df_Malware,'SubLabel')\n",
    "Y_MalwareF = df_Malware.SubLabel\n",
    "\n"
   ]
  },
  {
   "cell_type": "markdown",
   "metadata": {},
   "source": [
    "## Use StandardScaler() to scale the dataframes"
   ]
  },
  {
   "cell_type": "code",
   "execution_count": 90,
   "metadata": {},
   "outputs": [],
   "source": [
    "scaler1 = preprocessing.StandardScaler().fit(X_Scan)\n",
    "X_Scan = scaler1.transform(X_Scan) \n",
    "\n",
    "scaler2 = preprocessing.StandardScaler().fit(X_DOS)\n",
    "X_DOS = scaler2.transform(X_DOS) \n",
    "\n",
    "scaler3 = preprocessing.StandardScaler().fit(X_SSHBruteForce)\n",
    "X_SSHBruteForce = scaler3.transform(X_SSHBruteForce) \n",
    "\n",
    "scaler4 = preprocessing.StandardScaler().fit(X_Malware)\n",
    "X_Malware = scaler4.transform(X_Malware) \n",
    "\n"
   ]
  },
  {
   "cell_type": "markdown",
   "metadata": {},
   "source": [
    "# Step 3: Feature Selection:\n"
   ]
  },
  {
   "cell_type": "markdown",
   "metadata": {},
   "source": [
    "## 1. Univariate Feature Selection using ANOVA F-test"
   ]
  },
  {
   "cell_type": "code",
   "execution_count": 91,
   "metadata": {},
   "outputs": [
    {
     "name": "stderr",
     "output_type": "stream",
     "text": [
      "/anaconda3/lib/python3.7/site-packages/sklearn/feature_selection/univariate_selection.py:114: UserWarning: Features [31 33 34 49 50 51 56 57 58 59 60 61 66 69] are constant.\n",
      "  UserWarning)\n"
     ]
    },
    {
     "data": {
      "text/plain": [
       "(89538, 39)"
      ]
     },
     "execution_count": 91,
     "metadata": {},
     "output_type": "execute_result"
    }
   ],
   "source": [
    "from sklearn.feature_selection import SelectPercentile, f_classif\n",
    "np.seterr(divide='ignore', invalid='ignore');\n",
    "colNames=list(df1)\n",
    "\n",
    "selector=SelectPercentile(f_classif, percentile=50)\n",
    "X_newScan = selector.fit_transform(X_Scan,Y_ScanF)\n",
    "X_newScan.shape\n"
   ]
  },
  {
   "cell_type": "markdown",
   "metadata": {},
   "source": [
    "## Get the features that were selected: Port Scan"
   ]
  },
  {
   "cell_type": "code",
   "execution_count": 92,
   "metadata": {},
   "outputs": [
    {
     "data": {
      "text/plain": [
       "['Protocol',\n",
       " 'Flow Duration',\n",
       " 'Fwd Pkt Len Max',\n",
       " 'Fwd Pkt Len Mean',\n",
       " 'Fwd Pkt Len Std',\n",
       " 'Bwd Pkt Len Max',\n",
       " 'Bwd Pkt Len Min',\n",
       " 'Bwd Pkt Len Mean',\n",
       " 'Bwd Pkt Len Std',\n",
       " 'Flow IAT Mean',\n",
       " 'Flow IAT Std',\n",
       " 'Flow IAT Max',\n",
       " 'Fwd IAT Tot',\n",
       " 'Fwd IAT Mean',\n",
       " 'Fwd IAT Std',\n",
       " 'Fwd IAT Max',\n",
       " 'Fwd IAT Min',\n",
       " 'Bwd IAT Tot',\n",
       " 'Bwd IAT Mean',\n",
       " 'Bwd IAT Std',\n",
       " 'Bwd IAT Max',\n",
       " 'Pkt Len Min',\n",
       " 'Pkt Len Max',\n",
       " 'Pkt Len Mean',\n",
       " 'Pkt Len Std',\n",
       " 'Pkt Len Var',\n",
       " 'SYN Flag Cnt',\n",
       " 'ACK Flag Cnt',\n",
       " 'Down/Up Ratio',\n",
       " 'Pkt Size Avg',\n",
       " 'Fwd Seg Size Avg',\n",
       " 'Bwd Seg Size Avg',\n",
       " 'Init Bwd Win Byts',\n",
       " 'Active Mean',\n",
       " 'Active Max',\n",
       " 'Active Min',\n",
       " 'Idle Mean',\n",
       " 'Idle Max',\n",
       " 'Idle Min']"
      ]
     },
     "execution_count": 92,
     "metadata": {},
     "output_type": "execute_result"
    }
   ],
   "source": [
    "true=selector.get_support()\n",
    "newcolindex_Scan=[i for i, x in enumerate(true) if x]\n",
    "newcolname_Scan=list( colNames[i] for i in newcolindex_Scan )\n",
    "newcolname_Scan"
   ]
  },
  {
   "cell_type": "code",
   "execution_count": 93,
   "metadata": {},
   "outputs": [
    {
     "name": "stderr",
     "output_type": "stream",
     "text": [
      "/anaconda3/lib/python3.7/site-packages/sklearn/feature_selection/univariate_selection.py:114: UserWarning: Features [31 33 34 49 50 51 56 57 58 59 60 61 66 69] are constant.\n",
      "  UserWarning)\n"
     ]
    },
    {
     "data": {
      "text/plain": [
       "(89538, 39)"
      ]
     },
     "execution_count": 93,
     "metadata": {},
     "output_type": "execute_result"
    }
   ],
   "source": [
    "X_newDOS = selector.fit_transform(X_DOS,Y_DOSF)\n",
    "X_newDOS.shape\n"
   ]
  },
  {
   "cell_type": "markdown",
   "metadata": {},
   "source": [
    "## Get the features that were selected: DoS"
   ]
  },
  {
   "cell_type": "code",
   "execution_count": 94,
   "metadata": {},
   "outputs": [
    {
     "data": {
      "text/plain": [
       "['Dst Port',\n",
       " 'Protocol',\n",
       " 'Flow Duration',\n",
       " 'Fwd Pkt Len Max',\n",
       " 'Fwd Pkt Len Mean',\n",
       " 'Fwd Pkt Len Std',\n",
       " 'Bwd Pkt Len Max',\n",
       " 'Bwd Pkt Len Min',\n",
       " 'Bwd Pkt Len Mean',\n",
       " 'Bwd Pkt Len Std',\n",
       " 'Flow IAT Mean',\n",
       " 'Flow IAT Std',\n",
       " 'Flow IAT Max',\n",
       " 'Flow IAT Min',\n",
       " 'Fwd IAT Mean',\n",
       " 'Fwd IAT Min',\n",
       " 'Bwd IAT Tot',\n",
       " 'Bwd IAT Mean',\n",
       " 'Bwd IAT Std',\n",
       " 'Bwd IAT Max',\n",
       " 'Bwd PSH Flags',\n",
       " 'Pkt Len Min',\n",
       " 'Pkt Len Max',\n",
       " 'Pkt Len Mean',\n",
       " 'Pkt Len Std',\n",
       " 'Pkt Len Var',\n",
       " 'FIN Flag Cnt',\n",
       " 'SYN Flag Cnt',\n",
       " 'PSH Flag Cnt',\n",
       " 'Down/Up Ratio',\n",
       " 'Pkt Size Avg',\n",
       " 'Fwd Seg Size Avg',\n",
       " 'Bwd Seg Size Avg',\n",
       " 'Init Bwd Win Byts',\n",
       " 'Active Mean',\n",
       " 'Active Max',\n",
       " 'Active Min',\n",
       " 'Idle Mean',\n",
       " 'Idle Min']"
      ]
     },
     "execution_count": 94,
     "metadata": {},
     "output_type": "execute_result"
    }
   ],
   "source": [
    "true=selector.get_support()\n",
    "newcolindex_DoS=[i for i, x in enumerate(true) if x]\n",
    "newcolname_DoS=list( colNames[i] for i in newcolindex_DoS )\n",
    "newcolname_DoS\n"
   ]
  },
  {
   "cell_type": "code",
   "execution_count": 95,
   "metadata": {},
   "outputs": [
    {
     "name": "stderr",
     "output_type": "stream",
     "text": [
      "/anaconda3/lib/python3.7/site-packages/sklearn/feature_selection/univariate_selection.py:114: UserWarning: Features [31 33 34 49 50 51 56 57 58 59 60 61 66 69] are constant.\n",
      "  UserWarning)\n"
     ]
    },
    {
     "data": {
      "text/plain": [
       "(89538, 39)"
      ]
     },
     "execution_count": 95,
     "metadata": {},
     "output_type": "execute_result"
    }
   ],
   "source": [
    "X_newSSHBruteForce = selector.fit_transform(X_SSHBruteForce ,Y_SSHBruteForceF)\n",
    "X_newSSHBruteForce .shape"
   ]
  },
  {
   "cell_type": "markdown",
   "metadata": {},
   "source": [
    "## Get the features that were selected: SSHBruteForce "
   ]
  },
  {
   "cell_type": "code",
   "execution_count": 96,
   "metadata": {},
   "outputs": [
    {
     "data": {
      "text/plain": [
       "['Dst Port',\n",
       " 'Protocol',\n",
       " 'Flow Duration',\n",
       " 'Fwd Pkt Len Max',\n",
       " 'Fwd Pkt Len Min',\n",
       " 'Fwd Pkt Len Std',\n",
       " 'Bwd Pkt Len Max',\n",
       " 'Bwd Pkt Len Min',\n",
       " 'Bwd Pkt Len Mean',\n",
       " 'Flow Pkts/s',\n",
       " 'Flow IAT Mean',\n",
       " 'Flow IAT Std',\n",
       " 'Flow IAT Max',\n",
       " 'Flow IAT Min',\n",
       " 'Fwd IAT Mean',\n",
       " 'Fwd IAT Std',\n",
       " 'Fwd IAT Max',\n",
       " 'Fwd IAT Min',\n",
       " 'Bwd IAT Mean',\n",
       " 'Bwd IAT Std',\n",
       " 'Bwd IAT Max',\n",
       " 'Bwd PSH Flags',\n",
       " 'Pkt Len Min',\n",
       " 'Pkt Len Max',\n",
       " 'Pkt Len Mean',\n",
       " 'Pkt Len Std',\n",
       " 'Pkt Len Var',\n",
       " 'FIN Flag Cnt',\n",
       " 'SYN Flag Cnt',\n",
       " 'PSH Flag Cnt',\n",
       " 'ACK Flag Cnt',\n",
       " 'Down/Up Ratio',\n",
       " 'Pkt Size Avg',\n",
       " 'Bwd Seg Size Avg',\n",
       " 'Init Bwd Win Byts',\n",
       " 'Idle Mean',\n",
       " 'Idle Std',\n",
       " 'Idle Max',\n",
       " 'Idle Min']"
      ]
     },
     "execution_count": 96,
     "metadata": {},
     "output_type": "execute_result"
    }
   ],
   "source": [
    "true=selector.get_support()\n",
    "newcolindex_SSHBruteForce =[i for i, x in enumerate(true) if x]\n",
    "newcolname_SSHBruteForce =list( colNames[i] for i in newcolindex_SSHBruteForce  )\n",
    "newcolname_SSHBruteForce "
   ]
  },
  {
   "cell_type": "code",
   "execution_count": 97,
   "metadata": {},
   "outputs": [
    {
     "name": "stderr",
     "output_type": "stream",
     "text": [
      "/anaconda3/lib/python3.7/site-packages/sklearn/feature_selection/univariate_selection.py:114: UserWarning: Features [31 33 34 49 50 51 56 57 58 59 60 61 66 69] are constant.\n",
      "  UserWarning)\n"
     ]
    },
    {
     "data": {
      "text/plain": [
       "(89538, 39)"
      ]
     },
     "execution_count": 97,
     "metadata": {},
     "output_type": "execute_result"
    }
   ],
   "source": [
    "X_newMalware = selector.fit_transform(X_Malware ,Y_MalwareF)\n",
    "X_newMalware.shape"
   ]
  },
  {
   "cell_type": "markdown",
   "metadata": {},
   "source": [
    "## Get the features that were selected: Malware"
   ]
  },
  {
   "cell_type": "code",
   "execution_count": 98,
   "metadata": {},
   "outputs": [
    {
     "data": {
      "text/plain": [
       "['Dst Port',\n",
       " 'Protocol',\n",
       " 'Tot Fwd Pkts',\n",
       " 'Tot Bwd Pkts',\n",
       " 'TotLen Fwd Pkts',\n",
       " 'Fwd Pkt Len Max',\n",
       " 'Fwd Pkt Len Mean',\n",
       " 'Fwd Pkt Len Std',\n",
       " 'Bwd Pkt Len Max',\n",
       " 'Bwd Pkt Len Min',\n",
       " 'Bwd Pkt Len Mean',\n",
       " 'Bwd Pkt Len Std',\n",
       " 'Flow IAT Mean',\n",
       " 'Flow IAT Min',\n",
       " 'Fwd IAT Std',\n",
       " 'Fwd IAT Min',\n",
       " 'Bwd IAT Tot',\n",
       " 'Bwd IAT Std',\n",
       " 'Bwd IAT Max',\n",
       " 'Bwd PSH Flags',\n",
       " 'Fwd Header Len',\n",
       " 'Bwd Header Len',\n",
       " 'Bwd Pkts/s',\n",
       " 'Pkt Len Min',\n",
       " 'Pkt Len Max',\n",
       " 'Pkt Len Var',\n",
       " 'FIN Flag Cnt',\n",
       " 'SYN Flag Cnt',\n",
       " 'PSH Flag Cnt',\n",
       " 'Down/Up Ratio',\n",
       " 'Fwd Seg Size Avg',\n",
       " 'Bwd Seg Size Avg',\n",
       " 'Subflow Fwd Pkts',\n",
       " 'Subflow Fwd Byts',\n",
       " 'Subflow Bwd Pkts',\n",
       " 'Init Bwd Win Byts',\n",
       " 'Fwd Act Data Pkts',\n",
       " 'Active Mean',\n",
       " 'Active Min']"
      ]
     },
     "execution_count": 98,
     "metadata": {},
     "output_type": "execute_result"
    }
   ],
   "source": [
    "true=selector.get_support()\n",
    "newcolindex_Malware =[i for i, x in enumerate(true) if x]\n",
    "newcolname_Malware =list( colNames[i] for i in newcolindex_Malware)\n",
    "newcolname_Malware"
   ]
  },
  {
   "cell_type": "markdown",
   "metadata": {},
   "source": [
    "# 2. Recursive Feature Elimination"
   ]
  },
  {
   "cell_type": "code",
   "execution_count": 99,
   "metadata": {},
   "outputs": [],
   "source": [
    "from sklearn.tree import DecisionTreeClassifier\n",
    "from sklearn.feature_selection import RFE\n",
    "clf = DecisionTreeClassifier(random_state=0)\n",
    "\n",
    "rfe = RFE(estimator=clf, n_features_to_select=39, step=1)\n",
    "rfe.fit(X_Scan, Y_ScanF)\n",
    "X_rfeScan=rfe.transform(X_Scan)"
   ]
  },
  {
   "cell_type": "markdown",
   "metadata": {},
   "source": [
    "# Get the features that were selected: Scan"
   ]
  },
  {
   "cell_type": "code",
   "execution_count": 100,
   "metadata": {},
   "outputs": [
    {
     "data": {
      "text/plain": [
       "['Dst Port',\n",
       " 'Protocol',\n",
       " 'Flow Duration',\n",
       " 'Tot Fwd Pkts',\n",
       " 'Tot Bwd Pkts',\n",
       " 'TotLen Fwd Pkts',\n",
       " 'TotLen Bwd Pkts',\n",
       " 'Fwd Pkt Len Max',\n",
       " 'Fwd Pkt Len Min',\n",
       " 'Fwd Pkt Len Mean',\n",
       " 'Fwd Pkt Len Std',\n",
       " 'Bwd Pkt Len Max',\n",
       " 'Bwd Pkt Len Min',\n",
       " 'Bwd Pkt Len Mean',\n",
       " 'Bwd Pkt Len Std',\n",
       " 'Flow Byts/s',\n",
       " 'Flow Pkts/s',\n",
       " 'Flow IAT Mean',\n",
       " 'Flow IAT Std',\n",
       " 'Bwd Header Len',\n",
       " 'Bwd Pkts/s',\n",
       " 'Pkt Len Min',\n",
       " 'Pkt Len Max',\n",
       " 'Pkt Len Mean',\n",
       " 'Pkt Len Std',\n",
       " 'Pkt Len Var',\n",
       " 'FIN Flag Cnt',\n",
       " 'SYN Flag Cnt',\n",
       " 'RST Flag Cnt',\n",
       " 'PSH Flag Cnt',\n",
       " 'ACK Flag Cnt',\n",
       " 'URG Flag Cnt',\n",
       " 'CWE Flag Count',\n",
       " 'ECE Flag Cnt',\n",
       " 'Down/Up Ratio',\n",
       " 'Pkt Size Avg',\n",
       " 'Fwd Seg Size Avg',\n",
       " 'Bwd Seg Size Avg',\n",
       " 'Fwd Byts/b Avg']"
      ]
     },
     "execution_count": 100,
     "metadata": {},
     "output_type": "execute_result"
    }
   ],
   "source": [
    "true=rfe.support_\n",
    "rfecolindex_Scan=[i for i, x in enumerate(true) if x]\n",
    "rfecolname_Scan=list(colNames[i] for i in rfecolindex_Scan)\n",
    "rfecolname_Scan"
   ]
  },
  {
   "cell_type": "code",
   "execution_count": 101,
   "metadata": {},
   "outputs": [],
   "source": [
    "rfe.fit(X_DOS, Y_DOSF)\n",
    "X_rfeDOS=rfe.transform(X_DOS)"
   ]
  },
  {
   "cell_type": "markdown",
   "metadata": {},
   "source": [
    "## Get the features that were selected: DOS"
   ]
  },
  {
   "cell_type": "code",
   "execution_count": 102,
   "metadata": {},
   "outputs": [
    {
     "data": {
      "text/plain": [
       "['Dst Port',\n",
       " 'Protocol',\n",
       " 'Flow Duration',\n",
       " 'Tot Fwd Pkts',\n",
       " 'Tot Bwd Pkts',\n",
       " 'TotLen Fwd Pkts',\n",
       " 'TotLen Bwd Pkts',\n",
       " 'Fwd Pkt Len Max',\n",
       " 'Fwd Pkt Len Min',\n",
       " 'Fwd Pkt Len Mean',\n",
       " 'Fwd Pkt Len Std',\n",
       " 'Bwd Pkt Len Max',\n",
       " 'Bwd Pkt Len Min',\n",
       " 'Bwd Pkt Len Mean',\n",
       " 'Flow Byts/s',\n",
       " 'Flow Pkts/s',\n",
       " 'Flow IAT Mean',\n",
       " 'Flow IAT Max',\n",
       " 'Flow IAT Min',\n",
       " 'FIN Flag Cnt',\n",
       " 'PSH Flag Cnt',\n",
       " 'ACK Flag Cnt',\n",
       " 'URG Flag Cnt',\n",
       " 'CWE Flag Count',\n",
       " 'ECE Flag Cnt',\n",
       " 'Down/Up Ratio',\n",
       " 'Pkt Size Avg',\n",
       " 'Fwd Seg Size Avg',\n",
       " 'Bwd Seg Size Avg',\n",
       " 'Fwd Byts/b Avg',\n",
       " 'Fwd Pkts/b Avg',\n",
       " 'Fwd Blk Rate Avg',\n",
       " 'Bwd Byts/b Avg',\n",
       " 'Bwd Pkts/b Avg',\n",
       " 'Bwd Blk Rate Avg',\n",
       " 'Subflow Fwd Pkts',\n",
       " 'Init Bwd Win Byts',\n",
       " 'Active Min',\n",
       " 'Idle Mean']"
      ]
     },
     "execution_count": 102,
     "metadata": {},
     "output_type": "execute_result"
    }
   ],
   "source": [
    "true=rfe.support_\n",
    "rfecolindex_DOS=[i for i, x in enumerate(true) if x]\n",
    "rfecolname_DOS=list(colNames[i] for i in rfecolindex_DOS)\n",
    "rfecolname_DOS"
   ]
  },
  {
   "cell_type": "code",
   "execution_count": 103,
   "metadata": {},
   "outputs": [],
   "source": [
    "rfe.fit(X_SSHBruteForce, Y_SSHBruteForceF)\n",
    "X_rfeSSHBruteForce=rfe.transform(X_SSHBruteForce)\n"
   ]
  },
  {
   "cell_type": "markdown",
   "metadata": {},
   "source": [
    "## Get the features that were selected: SSH BruteForce"
   ]
  },
  {
   "cell_type": "code",
   "execution_count": 104,
   "metadata": {},
   "outputs": [
    {
     "data": {
      "text/plain": [
       "['Dst Port',\n",
       " 'Protocol',\n",
       " 'Flow Duration',\n",
       " 'Tot Fwd Pkts',\n",
       " 'Tot Bwd Pkts',\n",
       " 'TotLen Fwd Pkts',\n",
       " 'TotLen Bwd Pkts',\n",
       " 'Fwd Pkt Len Max',\n",
       " 'Fwd Pkt Len Min',\n",
       " 'Fwd Pkt Len Mean',\n",
       " 'Fwd Pkt Len Std',\n",
       " 'Bwd Pkt Len Max',\n",
       " 'Bwd Pkt Len Min',\n",
       " 'Bwd Pkt Len Mean',\n",
       " 'Flow Byts/s',\n",
       " 'Flow Pkts/s',\n",
       " 'Flow IAT Mean',\n",
       " 'Flow IAT Max',\n",
       " 'Flow IAT Min',\n",
       " 'FIN Flag Cnt',\n",
       " 'PSH Flag Cnt',\n",
       " 'ACK Flag Cnt',\n",
       " 'URG Flag Cnt',\n",
       " 'CWE Flag Count',\n",
       " 'ECE Flag Cnt',\n",
       " 'Down/Up Ratio',\n",
       " 'Pkt Size Avg',\n",
       " 'Fwd Seg Size Avg',\n",
       " 'Bwd Seg Size Avg',\n",
       " 'Fwd Byts/b Avg',\n",
       " 'Fwd Pkts/b Avg',\n",
       " 'Fwd Blk Rate Avg',\n",
       " 'Bwd Byts/b Avg',\n",
       " 'Bwd Pkts/b Avg',\n",
       " 'Bwd Blk Rate Avg',\n",
       " 'Subflow Fwd Pkts',\n",
       " 'Init Bwd Win Byts',\n",
       " 'Active Min',\n",
       " 'Idle Mean']"
      ]
     },
     "execution_count": 104,
     "metadata": {},
     "output_type": "execute_result"
    }
   ],
   "source": [
    "## Get the features that were selected: SSH BruteForcetrue\n",
    "rfe.support_\n",
    "rfecolindex_SSHBruteForce=[i for i, x in enumerate(true) if x]\n",
    "rfecolname_SSHBruteForce=list(colNames[i] for i in rfecolindex_SSHBruteForce)\n",
    "rfecolname_SSHBruteForce"
   ]
  },
  {
   "cell_type": "code",
   "execution_count": 105,
   "metadata": {},
   "outputs": [],
   "source": [
    "rfe.fit(X_Malware,Y_MalwareF)\n",
    "X_rfeMalware=rfe.transform(X_Malware)"
   ]
  },
  {
   "cell_type": "markdown",
   "metadata": {},
   "source": [
    "## Get the features that were selected: Malware"
   ]
  },
  {
   "cell_type": "code",
   "execution_count": 106,
   "metadata": {},
   "outputs": [
    {
     "data": {
      "text/plain": [
       "['Dst Port',\n",
       " 'Protocol',\n",
       " 'Flow Duration',\n",
       " 'Tot Fwd Pkts',\n",
       " 'Tot Bwd Pkts',\n",
       " 'TotLen Fwd Pkts',\n",
       " 'TotLen Bwd Pkts',\n",
       " 'Fwd Pkt Len Max',\n",
       " 'Fwd Pkt Len Min',\n",
       " 'Fwd Pkt Len Mean',\n",
       " 'Fwd Pkt Len Std',\n",
       " 'Bwd Pkt Len Max',\n",
       " 'Bwd Pkt Len Min',\n",
       " 'Bwd Pkt Len Mean',\n",
       " 'Flow Byts/s',\n",
       " 'Flow Pkts/s',\n",
       " 'Flow IAT Mean',\n",
       " 'Flow IAT Max',\n",
       " 'Flow IAT Min',\n",
       " 'FIN Flag Cnt',\n",
       " 'PSH Flag Cnt',\n",
       " 'ACK Flag Cnt',\n",
       " 'URG Flag Cnt',\n",
       " 'CWE Flag Count',\n",
       " 'ECE Flag Cnt',\n",
       " 'Down/Up Ratio',\n",
       " 'Pkt Size Avg',\n",
       " 'Fwd Seg Size Avg',\n",
       " 'Bwd Seg Size Avg',\n",
       " 'Fwd Byts/b Avg',\n",
       " 'Fwd Pkts/b Avg',\n",
       " 'Fwd Blk Rate Avg',\n",
       " 'Bwd Byts/b Avg',\n",
       " 'Bwd Pkts/b Avg',\n",
       " 'Bwd Blk Rate Avg',\n",
       " 'Subflow Fwd Pkts',\n",
       " 'Init Bwd Win Byts',\n",
       " 'Active Min',\n",
       " 'Idle Mean']"
      ]
     },
     "execution_count": 106,
     "metadata": {},
     "output_type": "execute_result"
    }
   ],
   "source": [
    "## Get the features that were selected: Malwaretrue\n",
    "rfe.support_\n",
    "rfecolindex_Malware=[i for i, x in enumerate(true) if x]\n",
    "rfecolname_Malware=list(colNames[i] for i in rfecolindex_Malware)\n",
    "rfecolname_Malware"
   ]
  },
  {
   "cell_type": "markdown",
   "metadata": {},
   "source": [
    "# 3. Feature Selection"
   ]
  },
  {
   "cell_type": "code",
   "execution_count": 108,
   "metadata": {},
   "outputs": [
    {
     "data": {
      "text/html": [
       "<div>\n",
       "<style scoped>\n",
       "    .dataframe tbody tr th:only-of-type {\n",
       "        vertical-align: middle;\n",
       "    }\n",
       "\n",
       "    .dataframe tbody tr th {\n",
       "        vertical-align: top;\n",
       "    }\n",
       "\n",
       "    .dataframe thead th {\n",
       "        text-align: right;\n",
       "    }\n",
       "</style>\n",
       "<table border=\"1\" class=\"dataframe\">\n",
       "  <thead>\n",
       "    <tr style=\"text-align: right;\">\n",
       "      <th></th>\n",
       "      <th>Dst Port</th>\n",
       "      <th>Flow Duration</th>\n",
       "      <th>Tot Fwd Pkts</th>\n",
       "      <th>TotLen Fwd Pkts</th>\n",
       "      <th>TotLen Bwd Pkts</th>\n",
       "      <th>Fwd Pkt Len Max</th>\n",
       "      <th>Fwd Pkt Len Mean</th>\n",
       "      <th>Fwd Pkt Len Std</th>\n",
       "      <th>Bwd Pkt Len Max</th>\n",
       "      <th>Bwd Pkt Len Min</th>\n",
       "      <th>...</th>\n",
       "      <th>Pkt Len Min</th>\n",
       "      <th>FIN Flag Cnt</th>\n",
       "      <th>SYN Flag Cnt</th>\n",
       "      <th>RST Flag Cnt</th>\n",
       "      <th>ACK Flag Cnt</th>\n",
       "      <th>Down/Up Ratio</th>\n",
       "      <th>Init Bwd Win Byts</th>\n",
       "      <th>Idle Mean</th>\n",
       "      <th>Idle Std</th>\n",
       "      <th>SubLabel</th>\n",
       "    </tr>\n",
       "  </thead>\n",
       "  <tbody>\n",
       "    <tr>\n",
       "      <th>0</th>\n",
       "      <td>80</td>\n",
       "      <td>49423624</td>\n",
       "      <td>1</td>\n",
       "      <td>0</td>\n",
       "      <td>0</td>\n",
       "      <td>0</td>\n",
       "      <td>0.000000</td>\n",
       "      <td>0.000000</td>\n",
       "      <td>0</td>\n",
       "      <td>0</td>\n",
       "      <td>...</td>\n",
       "      <td>0</td>\n",
       "      <td>0</td>\n",
       "      <td>0</td>\n",
       "      <td>0</td>\n",
       "      <td>1</td>\n",
       "      <td>3</td>\n",
       "      <td>0</td>\n",
       "      <td>49412414.0</td>\n",
       "      <td>0.000000</td>\n",
       "      <td>2</td>\n",
       "    </tr>\n",
       "    <tr>\n",
       "      <th>1</th>\n",
       "      <td>47171</td>\n",
       "      <td>2724163</td>\n",
       "      <td>3</td>\n",
       "      <td>68</td>\n",
       "      <td>0</td>\n",
       "      <td>68</td>\n",
       "      <td>22.666667</td>\n",
       "      <td>39.259818</td>\n",
       "      <td>0</td>\n",
       "      <td>0</td>\n",
       "      <td>...</td>\n",
       "      <td>0</td>\n",
       "      <td>0</td>\n",
       "      <td>1</td>\n",
       "      <td>0</td>\n",
       "      <td>0</td>\n",
       "      <td>1</td>\n",
       "      <td>260</td>\n",
       "      <td>0.0</td>\n",
       "      <td>0.000000</td>\n",
       "      <td>0</td>\n",
       "    </tr>\n",
       "    <tr>\n",
       "      <th>2</th>\n",
       "      <td>22</td>\n",
       "      <td>4601</td>\n",
       "      <td>0</td>\n",
       "      <td>0</td>\n",
       "      <td>96</td>\n",
       "      <td>0</td>\n",
       "      <td>0.000000</td>\n",
       "      <td>0.000000</td>\n",
       "      <td>96</td>\n",
       "      <td>0</td>\n",
       "      <td>...</td>\n",
       "      <td>0</td>\n",
       "      <td>0</td>\n",
       "      <td>0</td>\n",
       "      <td>0</td>\n",
       "      <td>1</td>\n",
       "      <td>0</td>\n",
       "      <td>237</td>\n",
       "      <td>0.0</td>\n",
       "      <td>0.000000</td>\n",
       "      <td>3</td>\n",
       "    </tr>\n",
       "    <tr>\n",
       "      <th>3</th>\n",
       "      <td>4444</td>\n",
       "      <td>94245738</td>\n",
       "      <td>17955</td>\n",
       "      <td>27838205</td>\n",
       "      <td>3741</td>\n",
       "      <td>13032</td>\n",
       "      <td>1550.443052</td>\n",
       "      <td>815.335042</td>\n",
       "      <td>1448</td>\n",
       "      <td>0</td>\n",
       "      <td>...</td>\n",
       "      <td>0</td>\n",
       "      <td>0</td>\n",
       "      <td>0</td>\n",
       "      <td>0</td>\n",
       "      <td>1</td>\n",
       "      <td>0</td>\n",
       "      <td>15041</td>\n",
       "      <td>0.0</td>\n",
       "      <td>0.000000</td>\n",
       "      <td>4</td>\n",
       "    </tr>\n",
       "    <tr>\n",
       "      <th>4</th>\n",
       "      <td>80</td>\n",
       "      <td>97820186</td>\n",
       "      <td>2</td>\n",
       "      <td>0</td>\n",
       "      <td>0</td>\n",
       "      <td>0</td>\n",
       "      <td>0.000000</td>\n",
       "      <td>0.000000</td>\n",
       "      <td>0</td>\n",
       "      <td>0</td>\n",
       "      <td>...</td>\n",
       "      <td>0</td>\n",
       "      <td>0</td>\n",
       "      <td>0</td>\n",
       "      <td>0</td>\n",
       "      <td>1</td>\n",
       "      <td>2</td>\n",
       "      <td>0</td>\n",
       "      <td>48908236.0</td>\n",
       "      <td>119755.604462</td>\n",
       "      <td>2</td>\n",
       "    </tr>\n",
       "  </tbody>\n",
       "</table>\n",
       "<p>5 rows × 36 columns</p>\n",
       "</div>"
      ],
      "text/plain": [
       "   Dst Port  Flow Duration  Tot Fwd Pkts  TotLen Fwd Pkts  TotLen Bwd Pkts  \\\n",
       "0        80       49423624             1                0                0   \n",
       "1     47171        2724163             3               68                0   \n",
       "2        22           4601             0                0               96   \n",
       "3      4444       94245738         17955         27838205             3741   \n",
       "4        80       97820186             2                0                0   \n",
       "\n",
       "   Fwd Pkt Len Max  Fwd Pkt Len Mean  Fwd Pkt Len Std  Bwd Pkt Len Max  \\\n",
       "0                0          0.000000         0.000000                0   \n",
       "1               68         22.666667        39.259818                0   \n",
       "2                0          0.000000         0.000000               96   \n",
       "3            13032       1550.443052       815.335042             1448   \n",
       "4                0          0.000000         0.000000                0   \n",
       "\n",
       "   Bwd Pkt Len Min  ...  Pkt Len Min  FIN Flag Cnt  SYN Flag Cnt  \\\n",
       "0                0  ...            0             0             0   \n",
       "1                0  ...            0             0             1   \n",
       "2                0  ...            0             0             0   \n",
       "3                0  ...            0             0             0   \n",
       "4                0  ...            0             0             0   \n",
       "\n",
       "   RST Flag Cnt  ACK Flag Cnt  Down/Up Ratio  Init Bwd Win Byts   Idle Mean  \\\n",
       "0             0             1              3                  0  49412414.0   \n",
       "1             0             0              1                260         0.0   \n",
       "2             0             1              0                237         0.0   \n",
       "3             0             1              0              15041         0.0   \n",
       "4             0             1              2                  0  48908236.0   \n",
       "\n",
       "        Idle Std  SubLabel  \n",
       "0       0.000000         2  \n",
       "1       0.000000         0  \n",
       "2       0.000000         3  \n",
       "3       0.000000         4  \n",
       "4  119755.604462         2  \n",
       "\n",
       "[5 rows x 36 columns]"
      ]
     },
     "execution_count": 108,
     "metadata": {},
     "output_type": "execute_result"
    }
   ],
   "source": [
    "dff = df1.copy()\n",
    "dff.drop(dff.columns.difference(['Dst Port', 'Flow Duration', 'Tot Fwd Pkts', 'TotLen Fwd Pkts',\n",
    "       'TotLen Bwd Pkts', 'Fwd Pkt Len Max', 'Fwd Pkt Len Mean',\n",
    "       'Fwd Pkt Len Std', 'Bwd Pkt Len Max', 'Bwd Pkt Len Min',\n",
    "       'Flow Byts/s', 'Flow Pkts/s', 'Flow IAT Mean', 'Flow IAT Std',\n",
    "       'Flow IAT Max', 'Fwd IAT Mean', 'Fwd IAT Std', 'Fwd IAT Max',\n",
    "       'Bwd IAT Tot', 'Bwd IAT Mean', 'Bwd IAT Std', 'Bwd IAT Min',\n",
    "       'Bwd PSH Flags', 'Fwd Header Len', 'Bwd Header Len', 'Fwd Pkts/s',\n",
    "       'Pkt Len Min', 'FIN Flag Cnt', 'SYN Flag Cnt', 'RST Flag Cnt',\n",
    "       'ACK Flag Cnt', 'Down/Up Ratio', 'Init Bwd Win Byts', 'Idle Mean',\n",
    "       'Idle Std','SubLabel']), 1, inplace=True)\n",
    "dff.head()"
   ]
  },
  {
   "cell_type": "markdown",
   "metadata": {},
   "source": [
    "# Step 4: Build The Model"
   ]
  },
  {
   "cell_type": "markdown",
   "metadata": {},
   "source": [
    "## 1. Model is trained for all features \n"
   ]
  },
  {
   "cell_type": "code",
   "execution_count": 109,
   "metadata": {
    "scrolled": true
   },
   "outputs": [
    {
     "name": "stdout",
     "output_type": "stream",
     "text": [
      "#### Training and Testing the model ####\n",
      "Train on 62676 samples, validate on 26862 samples\n",
      "Epoch 1/1000\n",
      " - 7s - loss: 0.1222 - val_loss: 0.0907\n",
      "Epoch 2/1000\n",
      " - 6s - loss: 0.0813 - val_loss: 0.0698\n",
      "Epoch 3/1000\n",
      " - 6s - loss: 0.0655 - val_loss: 0.0617\n",
      "Epoch 4/1000\n",
      " - 8s - loss: 0.0549 - val_loss: 0.0475\n",
      "Epoch 5/1000\n",
      " - 10s - loss: 0.0471 - val_loss: 0.0409\n",
      "Epoch 6/1000\n",
      " - 7s - loss: 0.0405 - val_loss: 0.0352\n",
      "Epoch 7/1000\n",
      " - 6s - loss: 0.0368 - val_loss: 0.0454\n",
      "Epoch 8/1000\n",
      " - 5s - loss: 0.0349 - val_loss: 0.0324\n",
      "Epoch 9/1000\n",
      " - 5s - loss: 0.0326 - val_loss: 0.0275\n",
      "Epoch 10/1000\n",
      " - 5s - loss: 0.0290 - val_loss: 0.0453\n",
      "Epoch 11/1000\n",
      " - 5s - loss: 0.0297 - val_loss: 0.0603\n",
      "Epoch 12/1000\n",
      " - 5s - loss: 0.0279 - val_loss: 0.0446\n",
      "Epoch 13/1000\n",
      " - 5s - loss: 0.0270 - val_loss: 0.0263\n",
      "Epoch 14/1000\n",
      " - 5s - loss: 0.0246 - val_loss: 0.0208\n",
      "Epoch 15/1000\n",
      " - 5s - loss: 0.0259 - val_loss: 0.0222\n",
      "Epoch 16/1000\n",
      " - 6s - loss: 0.0254 - val_loss: 0.0306\n",
      "Epoch 17/1000\n",
      " - 5s - loss: 0.0266 - val_loss: 0.0313\n",
      "Epoch 18/1000\n",
      " - 5s - loss: 0.0247 - val_loss: 0.0212\n",
      "Epoch 19/1000\n",
      " - 5s - loss: 0.0245 - val_loss: 0.0378\n",
      "Saved model to disk\n",
      "#### Training and Testing the model ####\n",
      "Train on 62676 samples, validate on 26862 samples\n",
      "Epoch 1/1000\n",
      " - 5s - loss: 0.0197 - val_loss: 0.0017\n",
      "Epoch 2/1000\n",
      " - 5s - loss: 0.0012 - val_loss: 4.7368e-04\n",
      "Epoch 3/1000\n",
      " - 5s - loss: 5.0096e-04 - val_loss: 3.0003e-04\n",
      "Epoch 4/1000\n",
      " - 5s - loss: 3.2476e-04 - val_loss: 3.0792e-04\n",
      "Epoch 5/1000\n",
      " - 5s - loss: 2.3487e-04 - val_loss: 6.1547e-04\n",
      "Epoch 6/1000\n",
      " - 7s - loss: 2.4938e-04 - val_loss: 4.2758e-04\n",
      "Epoch 7/1000\n",
      " - 5s - loss: 1.2095e-04 - val_loss: 1.6840e-04\n",
      "Saved model to disk\n",
      "#### Training and Testing the model ####\n",
      "Train on 62676 samples, validate on 26862 samples\n",
      "Epoch 1/1000\n",
      " - 6s - loss: 0.1401 - val_loss: 0.0978\n",
      "Epoch 2/1000\n",
      " - 5s - loss: 0.0829 - val_loss: 0.0829\n",
      "Epoch 3/1000\n",
      " - 6s - loss: 0.0666 - val_loss: 0.0672\n",
      "Epoch 4/1000\n",
      " - 5s - loss: 0.0581 - val_loss: 0.0596\n",
      "Epoch 5/1000\n",
      " - 5s - loss: 0.0532 - val_loss: 0.0557\n",
      "Epoch 6/1000\n",
      " - 5s - loss: 0.0497 - val_loss: 0.0558\n",
      "Epoch 7/1000\n",
      " - 5s - loss: 0.0477 - val_loss: 0.0520\n",
      "Epoch 8/1000\n",
      " - 5s - loss: 0.0455 - val_loss: 0.0475\n",
      "Epoch 9/1000\n",
      " - 5s - loss: 0.0445 - val_loss: 0.0466\n",
      "Epoch 10/1000\n",
      " - 5s - loss: 0.0428 - val_loss: 0.0532\n",
      "Epoch 11/1000\n",
      " - 5s - loss: 0.0421 - val_loss: 0.0455\n",
      "Epoch 12/1000\n",
      " - 5s - loss: 0.0408 - val_loss: 0.0487\n",
      "Epoch 13/1000\n",
      " - 5s - loss: 0.0407 - val_loss: 0.0444\n",
      "Epoch 14/1000\n",
      " - 5s - loss: 0.0394 - val_loss: 0.0459\n",
      "Epoch 15/1000\n",
      " - 5s - loss: 0.0391 - val_loss: 0.0440\n",
      "Epoch 16/1000\n",
      " - 5s - loss: 0.0378 - val_loss: 0.0412\n",
      "Epoch 17/1000\n",
      " - 5s - loss: 0.0378 - val_loss: 0.0398\n",
      "Epoch 18/1000\n",
      " - 5s - loss: 0.0383 - val_loss: 0.0410\n",
      "Epoch 19/1000\n",
      " - 5s - loss: 0.0366 - val_loss: 0.0466\n",
      "Epoch 20/1000\n",
      " - 5s - loss: 0.0362 - val_loss: 0.0385\n",
      "Epoch 21/1000\n",
      " - 5s - loss: 0.0363 - val_loss: 0.0395\n",
      "Epoch 22/1000\n",
      " - 5s - loss: 0.0355 - val_loss: 0.0418\n",
      "Epoch 23/1000\n",
      " - 5s - loss: 0.0357 - val_loss: 0.0387\n",
      "Epoch 24/1000\n",
      " - 5s - loss: 0.0350 - val_loss: 0.0389\n",
      "Epoch 25/1000\n",
      " - 6s - loss: 0.0351 - val_loss: 0.0444\n",
      "Saved model to disk\n",
      "#### Training and Testing the model ####\n",
      "Train on 62676 samples, validate on 26862 samples\n",
      "Epoch 1/1000\n",
      " - 8s - loss: 0.0755 - val_loss: 0.0160\n",
      "Epoch 2/1000\n",
      " - 8s - loss: 0.0114 - val_loss: 0.0094\n",
      "Epoch 3/1000\n",
      " - 9s - loss: 0.0074 - val_loss: 0.0087\n",
      "Epoch 4/1000\n",
      " - 6s - loss: 0.0059 - val_loss: 0.0063\n",
      "Epoch 5/1000\n",
      " - 5s - loss: 0.0047 - val_loss: 0.0065\n",
      "Epoch 6/1000\n",
      " - 5s - loss: 0.0046 - val_loss: 0.0047\n",
      "Epoch 7/1000\n",
      " - 5s - loss: 0.0033 - val_loss: 0.0039\n",
      "Epoch 8/1000\n",
      " - 5s - loss: 0.0027 - val_loss: 0.0038\n",
      "Epoch 9/1000\n",
      " - 5s - loss: 0.0030 - val_loss: 0.0056\n",
      "Epoch 10/1000\n",
      " - 5s - loss: 0.0019 - val_loss: 0.0035\n",
      "Epoch 11/1000\n",
      " - 5s - loss: 0.0016 - val_loss: 0.0028\n",
      "Epoch 12/1000\n",
      " - 5s - loss: 0.0014 - val_loss: 0.0024\n",
      "Epoch 13/1000\n",
      " - 5s - loss: 0.0017 - val_loss: 0.0028\n",
      "Epoch 14/1000\n",
      " - 5s - loss: 8.2498e-04 - val_loss: 0.0028\n",
      "Epoch 15/1000\n",
      " - 5s - loss: 9.7460e-04 - val_loss: 0.0016\n",
      "Epoch 16/1000\n",
      " - 5s - loss: 0.0012 - val_loss: 0.0012\n",
      "Epoch 17/1000\n",
      " - 5s - loss: 5.6384e-04 - val_loss: 0.0015\n",
      "Epoch 18/1000\n",
      " - 5s - loss: 6.4355e-04 - val_loss: 0.0013\n",
      "Epoch 19/1000\n",
      " - 5s - loss: 5.3303e-04 - val_loss: 0.0017\n",
      "Epoch 20/1000\n",
      " - 5s - loss: 0.0010 - val_loss: 0.0012\n",
      "Epoch 21/1000\n",
      " - 5s - loss: 3.2101e-04 - val_loss: 6.6919e-04\n",
      "Saved model to disk\n"
     ]
    }
   ],
   "source": [
    "#Fit Dense Neural Network\n",
    "y_pred_Scan,y_eval_Scan,h_Scan = dnnmodel(X_Scan,Y_Scan)\n",
    "\n",
    "y_pred_DOS,y_eval_DOS,h_DOS = dnnmodel(X_DOS,Y_DOS)\n",
    "\n",
    "y_pred_SSHBruteForce,y_eval_SSHBruteForce,h_SSHBruteForce = dnnmodel(X_SSHBruteForce ,Y_SSHBruteForce )\n",
    "\n",
    "y_pred_Malware,y_eval_Malware,h_Malware = dnnmodel(X_Malware,Y_Malware)\n"
   ]
  },
  {
   "cell_type": "markdown",
   "metadata": {},
   "source": [
    "## 2. Model is trained for selected features"
   ]
  },
  {
   "cell_type": "markdown",
   "metadata": {},
   "source": [
    "### ANOVA Univariate Feature Selection"
   ]
  },
  {
   "cell_type": "code",
   "execution_count": 110,
   "metadata": {
    "scrolled": true
   },
   "outputs": [
    {
     "name": "stdout",
     "output_type": "stream",
     "text": [
      "#### Training and Testing the model ####\n",
      "Train on 62676 samples, validate on 26862 samples\n",
      "Epoch 1/1000\n",
      " - 6s - loss: 0.1675 - val_loss: 0.1581\n",
      "Epoch 2/1000\n",
      " - 5s - loss: 0.1558 - val_loss: 0.1568\n",
      "Epoch 3/1000\n",
      " - 5s - loss: 0.1556 - val_loss: 0.1560\n",
      "Epoch 4/1000\n",
      " - 5s - loss: 0.1547 - val_loss: 0.1545\n",
      "Epoch 5/1000\n",
      " - 5s - loss: 0.1539 - val_loss: 0.1539\n",
      "Epoch 6/1000\n",
      " - 5s - loss: 0.1537 - val_loss: 0.1537\n",
      "Epoch 7/1000\n",
      " - 5s - loss: 0.1530 - val_loss: 0.1534\n",
      "Epoch 8/1000\n",
      " - 5s - loss: 0.1524 - val_loss: 0.1530\n",
      "Epoch 9/1000\n",
      " - 5s - loss: 0.1519 - val_loss: 0.1528\n",
      "Epoch 10/1000\n",
      " - 5s - loss: 0.1522 - val_loss: 0.1542\n",
      "Epoch 11/1000\n",
      " - 5s - loss: 0.1517 - val_loss: 0.1565\n",
      "Epoch 12/1000\n",
      " - 5s - loss: 0.1511 - val_loss: 0.1521\n",
      "Epoch 13/1000\n",
      " - 5s - loss: 0.1513 - val_loss: 0.1518\n",
      "Epoch 14/1000\n",
      " - 5s - loss: 0.1508 - val_loss: 0.1563\n",
      "Epoch 15/1000\n",
      " - 5s - loss: 0.1501 - val_loss: 0.1523\n",
      "Epoch 16/1000\n",
      " - 5s - loss: 0.1508 - val_loss: 0.1515\n",
      "Epoch 17/1000\n",
      " - 5s - loss: 0.1504 - val_loss: 0.1510\n",
      "Epoch 18/1000\n",
      " - 5s - loss: 0.1506 - val_loss: 0.1513\n",
      "Epoch 19/1000\n",
      " - 5s - loss: 0.1501 - val_loss: 0.1523\n",
      "Epoch 20/1000\n",
      " - 5s - loss: 0.1501 - val_loss: 0.1509\n",
      "Epoch 21/1000\n",
      " - 5s - loss: 0.1501 - val_loss: 0.1530\n",
      "Epoch 22/1000\n",
      " - 5s - loss: 0.1499 - val_loss: 0.1515\n",
      "Saved model to disk\n",
      "#### Training and Testing the model ####\n",
      "Train on 62676 samples, validate on 26862 samples\n",
      "Epoch 1/1000\n",
      " - 6s - loss: 0.0261 - val_loss: 0.0045\n",
      "Epoch 2/1000\n",
      " - 5s - loss: 0.0021 - val_loss: 0.0043\n",
      "Epoch 3/1000\n",
      " - 5s - loss: 5.9075e-04 - val_loss: 3.9218e-04\n",
      "Epoch 4/1000\n",
      " - 5s - loss: 3.2349e-04 - val_loss: 3.4093e-04\n",
      "Epoch 5/1000\n",
      " - 5s - loss: 2.1818e-04 - val_loss: 2.1170e-04\n",
      "Epoch 6/1000\n",
      " - 5s - loss: 1.9708e-04 - val_loss: 1.7968e-04\n",
      "Epoch 7/1000\n",
      " - 5s - loss: 1.1957e-04 - val_loss: 1.6429e-04\n",
      "Epoch 8/1000\n",
      " - 5s - loss: 1.6994e-04 - val_loss: 1.0577e-04\n",
      "Saved model to disk\n",
      "#### Training and Testing the model ####\n",
      "Train on 62676 samples, validate on 26862 samples\n",
      "Epoch 1/1000\n",
      " - 6s - loss: 0.1507 - val_loss: 0.1114\n",
      "Epoch 2/1000\n",
      " - 5s - loss: 0.0969 - val_loss: 0.0934\n",
      "Epoch 3/1000\n",
      " - 5s - loss: 0.0815 - val_loss: 0.0789\n",
      "Epoch 4/1000\n",
      " - 5s - loss: 0.0735 - val_loss: 0.0749\n",
      "Epoch 5/1000\n",
      " - 5s - loss: 0.0688 - val_loss: 0.0739\n",
      "Epoch 6/1000\n",
      " - 5s - loss: 0.0660 - val_loss: 0.0726\n",
      "Epoch 7/1000\n",
      " - 5s - loss: 0.0637 - val_loss: 0.0679\n",
      "Epoch 8/1000\n",
      " - 5s - loss: 0.0617 - val_loss: 0.0657\n",
      "Epoch 9/1000\n",
      " - 5s - loss: 0.0599 - val_loss: 0.0690\n",
      "Epoch 10/1000\n",
      " - 5s - loss: 0.0583 - val_loss: 0.0626\n",
      "Epoch 11/1000\n",
      " - 5s - loss: 0.0570 - val_loss: 0.0658\n",
      "Epoch 12/1000\n",
      " - 5s - loss: 0.0564 - val_loss: 0.0617\n",
      "Epoch 13/1000\n",
      " - 5s - loss: 0.0644 - val_loss: 0.0805\n",
      "Epoch 14/1000\n",
      " - 5s - loss: 0.0560 - val_loss: 0.0568\n",
      "Epoch 15/1000\n",
      " - 4s - loss: 0.0547 - val_loss: 0.0724\n",
      "Epoch 16/1000\n",
      " - 5s - loss: 0.0527 - val_loss: 0.0582\n",
      "Epoch 17/1000\n",
      " - 5s - loss: 0.0512 - val_loss: 0.0606\n",
      "Epoch 18/1000\n",
      " - 5s - loss: 0.0513 - val_loss: 0.0575\n",
      "Epoch 19/1000\n",
      " - 5s - loss: 0.0500 - val_loss: 0.0578\n",
      "Saved model to disk\n",
      "#### Training and Testing the model ####\n",
      "Train on 62676 samples, validate on 26862 samples\n",
      "Epoch 1/1000\n",
      " - 6s - loss: 0.0915 - val_loss: 0.0255\n",
      "Epoch 2/1000\n",
      " - 5s - loss: 0.0178 - val_loss: 0.0144\n",
      "Epoch 3/1000\n",
      " - 5s - loss: 0.0109 - val_loss: 0.0090\n",
      "Epoch 4/1000\n",
      " - 5s - loss: 0.0074 - val_loss: 0.0069\n",
      "Epoch 5/1000\n",
      " - 5s - loss: 0.0055 - val_loss: 0.0058\n",
      "Epoch 6/1000\n",
      " - 5s - loss: 0.0042 - val_loss: 0.0045\n",
      "Epoch 7/1000\n",
      " - 5s - loss: 0.0037 - val_loss: 0.0041\n",
      "Epoch 8/1000\n",
      " - 5s - loss: 0.0030 - val_loss: 0.0036\n",
      "Epoch 9/1000\n",
      " - 5s - loss: 0.0027 - val_loss: 0.0031\n",
      "Epoch 10/1000\n",
      " - 6s - loss: 0.0044 - val_loss: 0.0027\n",
      "Epoch 11/1000\n",
      " - 6s - loss: 0.0019 - val_loss: 0.0033\n",
      "Epoch 12/1000\n",
      " - 5s - loss: 0.0026 - val_loss: 0.0026\n",
      "Epoch 13/1000\n",
      " - 5s - loss: 0.0019 - val_loss: 0.0025\n",
      "Epoch 14/1000\n",
      " - 5s - loss: 0.0016 - val_loss: 0.0020\n",
      "Epoch 15/1000\n",
      " - 5s - loss: 0.0015 - val_loss: 0.0018\n",
      "Epoch 16/1000\n",
      " - 6s - loss: 0.0016 - val_loss: 0.0020\n",
      "Epoch 17/1000\n",
      " - 5s - loss: 0.0014 - val_loss: 0.0022\n",
      "Epoch 18/1000\n",
      " - 6s - loss: 0.0023 - val_loss: 0.0022\n",
      "Epoch 19/1000\n",
      " - 5s - loss: 0.0017 - val_loss: 0.0022\n",
      "Saved model to disk\n"
     ]
    }
   ],
   "source": [
    "#Fit Dense Neural Network\n",
    "\n",
    "y_pred_newScan,y_eval_newScan,h_newScan = dnnmodel(X_newScan,Y_Scan)\n",
    "\n",
    "y_pred_newDOS,  y_eval_newDOS,h_newDOS = dnnmodel(X_newDOS,Y_DOS)\n",
    "\n",
    "y_pred_newSSHBruteForce,y_eval_newSSHBruteForce,h_newSSHBruteForce = dnnmodel(X_newSSHBruteForce ,Y_SSHBruteForce )\n",
    "\n",
    "y_pred_newMalware,y_eval_newMalware,h_newMalware = dnnmodel(X_newMalware,Y_Malware)\n",
    "\n"
   ]
  },
  {
   "cell_type": "markdown",
   "metadata": {},
   "source": [
    "### Recursive Feature Elimination"
   ]
  },
  {
   "cell_type": "code",
   "execution_count": 111,
   "metadata": {},
   "outputs": [
    {
     "name": "stdout",
     "output_type": "stream",
     "text": [
      "#### Training and Testing the model ####\n",
      "Train on 62676 samples, validate on 26862 samples\n",
      "Epoch 1/1000\n",
      " - 7s - loss: 0.1304 - val_loss: 0.1005\n",
      "Epoch 2/1000\n",
      " - 5s - loss: 0.0898 - val_loss: 0.0800\n",
      "Epoch 3/1000\n",
      " - 5s - loss: 0.0776 - val_loss: 0.0754\n",
      "Epoch 4/1000\n",
      " - 5s - loss: 0.0677 - val_loss: 0.0737\n",
      "Epoch 5/1000\n",
      " - 5s - loss: 0.0601 - val_loss: 0.0692\n",
      "Epoch 6/1000\n",
      " - 6s - loss: 0.0528 - val_loss: 0.0484\n",
      "Epoch 7/1000\n",
      " - 5s - loss: 0.0470 - val_loss: 0.0428\n",
      "Epoch 8/1000\n",
      " - 6s - loss: 0.0432 - val_loss: 0.0380\n",
      "Epoch 9/1000\n",
      " - 5s - loss: 0.0392 - val_loss: 0.0342\n",
      "Epoch 10/1000\n",
      " - 5s - loss: 0.0353 - val_loss: 0.0325\n",
      "Epoch 11/1000\n",
      " - 5s - loss: 0.0333 - val_loss: 0.0553\n",
      "Epoch 12/1000\n",
      " - 5s - loss: 0.0313 - val_loss: 0.0329\n",
      "Epoch 13/1000\n",
      " - 5s - loss: 0.0296 - val_loss: 0.0271\n",
      "Epoch 14/1000\n",
      " - 5s - loss: 0.0288 - val_loss: 0.0256\n",
      "Epoch 15/1000\n",
      " - 5s - loss: 0.0276 - val_loss: 0.0311\n",
      "Epoch 16/1000\n",
      " - 5s - loss: 0.0281 - val_loss: 0.0245\n",
      "Epoch 17/1000\n",
      " - 5s - loss: 0.0264 - val_loss: 0.0224\n",
      "Epoch 18/1000\n",
      " - 5s - loss: 0.0261 - val_loss: 0.0220\n",
      "Epoch 19/1000\n",
      " - 5s - loss: 0.0245 - val_loss: 0.0287\n",
      "Epoch 20/1000\n",
      " - 5s - loss: 0.0238 - val_loss: 0.0209\n",
      "Epoch 21/1000\n",
      " - 5s - loss: 0.0242 - val_loss: 0.0242\n",
      "Epoch 22/1000\n",
      " - 6s - loss: 0.0234 - val_loss: 0.0223\n",
      "Epoch 23/1000\n",
      " - 5s - loss: 0.0242 - val_loss: 0.0214\n",
      "Epoch 24/1000\n",
      " - 5s - loss: 0.0238 - val_loss: 0.0205\n",
      "Epoch 25/1000\n",
      " - 6s - loss: 0.0237 - val_loss: 0.0231\n",
      "Saved model to disk\n",
      "#### Training and Testing the model ####\n",
      "Train on 62676 samples, validate on 26862 samples\n",
      "Epoch 1/1000\n",
      " - 9s - loss: 0.0261 - val_loss: 0.0024\n",
      "Epoch 2/1000\n",
      " - 8s - loss: 0.0013 - val_loss: 5.3334e-04\n",
      "Epoch 3/1000\n",
      " - 9s - loss: 4.4971e-04 - val_loss: 4.1839e-04\n",
      "Epoch 4/1000\n",
      " - 7s - loss: 2.4213e-04 - val_loss: 2.5300e-04\n",
      "Epoch 5/1000\n",
      " - 6s - loss: 2.4653e-04 - val_loss: 2.2116e-04\n",
      "Epoch 6/1000\n",
      " - 10s - loss: 1.7863e-04 - val_loss: 2.0204e-04\n",
      "Epoch 7/1000\n",
      " - 8s - loss: 1.7947e-04 - val_loss: 2.2435e-04\n",
      "Saved model to disk\n",
      "#### Training and Testing the model ####\n",
      "Train on 62676 samples, validate on 26862 samples\n",
      "Epoch 1/1000\n",
      " - 6s - loss: 0.1502 - val_loss: 0.1093\n",
      "Epoch 2/1000\n",
      " - 5s - loss: 0.0942 - val_loss: 0.0849\n",
      "Epoch 3/1000\n",
      " - 5s - loss: 0.0777 - val_loss: 0.0789\n",
      "Epoch 4/1000\n",
      " - 5s - loss: 0.0700 - val_loss: 0.0700\n",
      "Epoch 5/1000\n",
      " - 8s - loss: 0.0652 - val_loss: 0.0734\n",
      "Epoch 6/1000\n",
      " - 7s - loss: 0.0620 - val_loss: 0.0625\n",
      "Epoch 7/1000\n",
      " - 6s - loss: 0.0595 - val_loss: 0.0655\n",
      "Epoch 8/1000\n",
      " - 7s - loss: 0.0578 - val_loss: 0.0594\n",
      "Epoch 9/1000\n",
      " - 6s - loss: 0.0562 - val_loss: 0.0574\n",
      "Epoch 10/1000\n",
      " - 7s - loss: 0.0548 - val_loss: 0.0581\n",
      "Epoch 11/1000\n",
      " - 7s - loss: 0.0537 - val_loss: 0.0601\n",
      "Epoch 12/1000\n",
      " - 7s - loss: 0.0524 - val_loss: 0.0540\n",
      "Epoch 13/1000\n",
      " - 8s - loss: 0.0520 - val_loss: 0.0563\n",
      "Epoch 14/1000\n",
      " - 8s - loss: 0.0510 - val_loss: 0.0514\n",
      "Epoch 15/1000\n",
      " - 7s - loss: 0.0503 - val_loss: 0.0510\n",
      "Epoch 16/1000\n",
      " - 7s - loss: 0.0499 - val_loss: 0.0537\n",
      "Epoch 17/1000\n",
      " - 7s - loss: 0.0489 - val_loss: 0.0491\n",
      "Epoch 18/1000\n",
      " - 6s - loss: 0.0479 - val_loss: 0.0487\n",
      "Epoch 19/1000\n",
      " - 6s - loss: 0.0472 - val_loss: 0.0496\n",
      "Epoch 20/1000\n",
      " - 7s - loss: 0.0464 - val_loss: 0.0478\n",
      "Epoch 21/1000\n",
      " - 7s - loss: 0.0460 - val_loss: 0.0507\n",
      "Epoch 22/1000\n",
      " - 8s - loss: 0.0457 - val_loss: 0.0485\n",
      "Epoch 23/1000\n",
      " - 7s - loss: 0.0447 - val_loss: 0.0508\n",
      "Epoch 24/1000\n",
      " - 6s - loss: 0.0446 - val_loss: 0.0537\n",
      "Epoch 25/1000\n",
      " - 5s - loss: 0.0434 - val_loss: 0.0444\n",
      "Epoch 26/1000\n",
      " - 6s - loss: 0.0428 - val_loss: 0.0457\n",
      "Epoch 27/1000\n",
      " - 6s - loss: 0.0419 - val_loss: 0.0591\n",
      "Epoch 28/1000\n",
      " - 9s - loss: 0.0414 - val_loss: 0.0467\n",
      "Epoch 29/1000\n",
      " - 10s - loss: 0.0411 - val_loss: 0.0425\n",
      "Epoch 30/1000\n",
      " - 6s - loss: 0.0404 - val_loss: 0.0432\n",
      "Epoch 31/1000\n",
      " - 7s - loss: 0.0397 - val_loss: 0.0409\n",
      "Epoch 32/1000\n",
      " - 6s - loss: 0.0397 - val_loss: 0.0408\n",
      "Epoch 33/1000\n",
      " - 6s - loss: 0.0389 - val_loss: 0.0428\n",
      "Epoch 34/1000\n",
      " - 6s - loss: 0.0386 - val_loss: 0.0427\n",
      "Epoch 35/1000\n",
      " - 7s - loss: 0.0382 - val_loss: 0.0489\n",
      "Epoch 36/1000\n",
      " - 7s - loss: 0.0375 - val_loss: 0.0404\n",
      "Saved model to disk\n",
      "#### Training and Testing the model ####\n",
      "Train on 62676 samples, validate on 26862 samples\n",
      "Epoch 1/1000\n",
      " - 12s - loss: 0.0769 - val_loss: 0.0173\n",
      "Epoch 2/1000\n",
      " - 6s - loss: 0.0125 - val_loss: 0.0136\n",
      "Epoch 3/1000\n",
      " - 7s - loss: 0.0083 - val_loss: 0.0094\n",
      "Epoch 4/1000\n",
      " - 9s - loss: 0.0066 - val_loss: 0.0085\n",
      "Epoch 5/1000\n",
      " - 8s - loss: 0.0056 - val_loss: 0.0060\n",
      "Epoch 6/1000\n",
      " - 7s - loss: 0.0043 - val_loss: 0.0057\n",
      "Epoch 7/1000\n",
      " - 7s - loss: 0.0035 - val_loss: 0.0054\n",
      "Epoch 8/1000\n",
      " - 8s - loss: 0.0030 - val_loss: 0.0039\n",
      "Epoch 9/1000\n",
      " - 7s - loss: 0.0024 - val_loss: 0.0040\n",
      "Epoch 10/1000\n",
      " - 6s - loss: 0.0022 - val_loss: 0.0029\n",
      "Epoch 11/1000\n",
      " - 7s - loss: 0.0015 - val_loss: 0.0029\n",
      "Epoch 12/1000\n",
      " - 10s - loss: 0.0017 - val_loss: 0.0038\n",
      "Epoch 13/1000\n",
      " - 7s - loss: 0.0013 - val_loss: 0.0027\n",
      "Epoch 14/1000\n",
      " - 6s - loss: 9.0944e-04 - val_loss: 0.0024\n",
      "Epoch 15/1000\n",
      " - 6s - loss: 7.8809e-04 - val_loss: 0.0023\n",
      "Epoch 16/1000\n",
      " - 6s - loss: 8.2796e-04 - val_loss: 0.0023\n",
      "Epoch 17/1000\n",
      " - 10s - loss: 5.3151e-04 - val_loss: 0.0019\n",
      "Epoch 18/1000\n",
      " - 11s - loss: 5.1589e-04 - val_loss: 0.0021\n",
      "Saved model to disk\n"
     ]
    }
   ],
   "source": [
    "#Fit Dense Neural Network\n",
    "\n",
    "y_pred_rfeScan,y_eval_rfeScan,h_rfeScan = dnnmodel(X_rfeScan,Y_Scan)\n",
    "\n",
    "y_pred_rfeDOS,y_eval_rfeDOS,h_rfeDOS = dnnmodel(X_rfeDOS,Y_DOS)\n",
    "\n",
    "y_pred_rfeSSHBruteForce,y_eval_rfeSSHBruteForce,h_rfeSSHBruteForce = dnnmodel(X_rfeSSHBruteForce ,Y_SSHBruteForce )\n",
    "\n",
    "y_pred_rfeMalware,y_eval_rfeMalware,h_rfeMalware = dnnmodel(X_rfeMalware,Y_Malware)\n"
   ]
  },
  {
   "cell_type": "markdown",
   "metadata": {},
   "source": [
    "## 3. Multiclass Classification"
   ]
  },
  {
   "cell_type": "markdown",
   "metadata": {},
   "source": [
    "### Dense Neural Network"
   ]
  },
  {
   "cell_type": "code",
   "execution_count": 112,
   "metadata": {},
   "outputs": [],
   "source": [
    "encode_text_dummy(df1,'SubLabel')\n",
    "# encode_text_dummy(dff,'SubLabel')"
   ]
  },
  {
   "cell_type": "code",
   "execution_count": 113,
   "metadata": {},
   "outputs": [
    {
     "name": "stdout",
     "output_type": "stream",
     "text": [
      "With all Features\n",
      "#### Dense Neural Network ####\n",
      "Train on 188029 samples, validate on 80585 samples\n",
      "Epoch 1/1000\n",
      " - 32s - loss: 0.1133 - val_loss: 0.0664\n",
      "Epoch 2/1000\n",
      " - 22s - loss: 0.0552 - val_loss: 0.0483\n",
      "Epoch 3/1000\n",
      " - 15s - loss: 0.0438 - val_loss: 0.0412\n",
      "Epoch 4/1000\n",
      " - 14s - loss: 0.0384 - val_loss: 0.0383\n",
      "Epoch 5/1000\n",
      " - 13s - loss: 0.0357 - val_loss: 0.0337\n",
      "Epoch 6/1000\n",
      " - 13s - loss: 0.0328 - val_loss: 0.0370\n",
      "Epoch 7/1000\n",
      " - 13s - loss: 0.0310 - val_loss: 0.0300\n",
      "Epoch 8/1000\n",
      " - 13s - loss: 0.0307 - val_loss: 0.0321\n",
      "Epoch 9/1000\n",
      " - 13s - loss: 0.0289 - val_loss: 0.0299\n",
      "Epoch 10/1000\n",
      " - 13s - loss: 0.0276 - val_loss: 0.0264\n",
      "Epoch 11/1000\n",
      " - 13s - loss: 0.0271 - val_loss: 0.0319\n",
      "Epoch 12/1000\n",
      " - 13s - loss: 0.0260 - val_loss: 0.0296\n",
      "Epoch 13/1000\n",
      " - 13s - loss: 0.0251 - val_loss: 0.0253\n",
      "Epoch 14/1000\n",
      " - 13s - loss: 0.0249 - val_loss: 0.0312\n",
      "Epoch 15/1000\n",
      " - 13s - loss: 0.0244 - val_loss: 0.0238\n",
      "Epoch 16/1000\n",
      " - 13s - loss: 0.0236 - val_loss: 0.0283\n",
      "Epoch 17/1000\n",
      " - 13s - loss: 0.0234 - val_loss: 0.0257\n",
      "Epoch 18/1000\n",
      " - 13s - loss: 0.0234 - val_loss: 0.0270\n",
      "Epoch 19/1000\n",
      " - 13s - loss: 0.0234 - val_loss: 0.0275\n",
      "Epoch 20/1000\n",
      " - 13s - loss: 0.0230 - val_loss: 0.0237\n",
      "Epoch 21/1000\n",
      " - 13s - loss: 0.0236 - val_loss: 0.0256\n",
      "Epoch 22/1000\n",
      " - 13s - loss: 0.0253 - val_loss: 0.0307\n",
      "Epoch 23/1000\n",
      " - 13s - loss: 0.0269 - val_loss: 0.0244\n",
      "Epoch 24/1000\n",
      " - 14s - loss: 0.0221 - val_loss: 0.0271\n",
      "Epoch 25/1000\n",
      " - 13s - loss: 0.0216 - val_loss: 0.0370\n",
      "Epoch 00025: early stopping\n",
      "Saved model to disk\n",
      "_________________________________________________________________\n",
      "Layer (type)                 Output Shape              Param #   \n",
      "=================================================================\n",
      "dense_29 (Dense)             (None, 78)                6162      \n",
      "_________________________________________________________________\n",
      "dense_30 (Dense)             (None, 5)                 395       \n",
      "=================================================================\n",
      "Total params: 6,557\n",
      "Trainable params: 6,557\n",
      "Non-trainable params: 0\n",
      "_________________________________________________________________\n",
      "None\n"
     ]
    }
   ],
   "source": [
    "print(\"With all Features\")\n",
    "y_pred_dnn, y_eval_dnn, h_dnn  = dnnmodel_multiclass()\n",
    "# print(\"With selected 35 Features\")\n",
    "# y_pred_dnns, y_eval_dnns, h_dnns  = dnnmodel_multiclassf()\n"
   ]
  },
  {
   "cell_type": "markdown",
   "metadata": {},
   "source": [
    "# Step 4: Evaluate the model "
   ]
  },
  {
   "cell_type": "markdown",
   "metadata": {},
   "source": [
    "# Accuracy, Precision, Recall, F1score"
   ]
  },
  {
   "cell_type": "markdown",
   "metadata": {},
   "source": [
    "## Port Scan"
   ]
  },
  {
   "cell_type": "code",
   "execution_count": 115,
   "metadata": {
    "scrolled": true
   },
   "outputs": [
    {
     "name": "stdout",
     "output_type": "stream",
     "text": [
      "Evaluation with all features\n",
      "Accuracy:98.4215620579257%\n",
      "Precison:99.89311345243549\n",
      "Recall:96.96161256854899\n",
      "F1-Score:98.40553549939831\n",
      "Confusion matrix, without normalization\n"
     ]
    },
    {
     "data": {
      "image/png": "[encoded data removed]",
      "text/plain": [
       "<Figure size 360x360 with 2 Axes>"
      ]
     },
     "metadata": {
      "needs_background": "light"
     },
     "output_type": "display_data"
    },
    {
     "name": "stderr",
     "output_type": "stream",
     "text": [
      "/anaconda3/lib/python3.7/site-packages/ipykernel_launcher.py:176: DeprecationWarning: `spline` is deprecated!\n",
      "spline is deprecated in scipy 0.19.0, use Bspline class instead.\n"
     ]
    },
    {
     "data": {
      "image/png": "[encoded data removed]",
      "text/plain": [
       "<Figure size 360x360 with 1 Axes>"
      ]
     },
     "metadata": {
      "needs_background": "light"
     },
     "output_type": "display_data"
    },
    {
     "name": "stdout",
     "output_type": "stream",
     "text": [
      "AUC: 0.9842844243029484\n",
      "Evaluation with selected features using ANOVA\n",
      "Accuracy:95.6555729283002%\n",
      "Precison:92.04010640474729\n",
      "Recall:100.0\n",
      "F1-Score:95.85508790623335\n",
      "Confusion matrix, without normalization\n"
     ]
    },
    {
     "data": {
      "image/png": "[encoded data removed]",
      "text/plain": [
       "<Figure size 360x360 with 2 Axes>"
      ]
     },
     "metadata": {
      "needs_background": "light"
     },
     "output_type": "display_data"
    },
    {
     "data": {
      "image/png": "[encoded data removed]",
      "text/plain": [
       "<Figure size 360x360 with 1 Axes>"
      ]
     },
     "metadata": {
      "needs_background": "light"
     },
     "output_type": "display_data"
    },
    {
     "name": "stdout",
     "output_type": "stream",
     "text": [
      "AUC: 0.956350987432675\n",
      "Evaluation with selected features using RFE\n",
      "Accuracy:99.09165363710818%\n",
      "Precison:99.59574786644707\n",
      "Recall:98.59196680005928\n",
      "F1-Score:99.09131535826009\n",
      "Confusion matrix, without normalization\n"
     ]
    },
    {
     "data": {
      "image/png": "[encoded data removed]",
      "text/plain": [
       "<Figure size 360x360 with 2 Axes>"
      ]
     },
     "metadata": {
      "needs_background": "light"
     },
     "output_type": "display_data"
    },
    {
     "data": {
      "image/png": "[encoded data removed]",
      "text/plain": [
       "<Figure size 360x360 with 1 Axes>"
      ]
     },
     "metadata": {
      "needs_background": "light"
     },
     "output_type": "display_data"
    },
    {
     "name": "stdout",
     "output_type": "stream",
     "text": [
      "AUC: 0.9909400853467955\n"
     ]
    }
   ],
   "source": [
    "#evaluate with all features\n",
    "print(\"Evaluation with all features\")\n",
    "evaluate(y_pred_Scan, y_eval_Scan, h_Scan,'Port Scan' )\n",
    "#evaluate with selected features\n",
    "print(\"Evaluation with selected features using ANOVA\")\n",
    "evaluate(y_pred_newScan,y_eval_newScan,h_newScan, 'Port Scan')\n",
    "#evaluate with selected features\n",
    "print(\"Evaluation with selected features using RFE\")\n",
    "evaluate(y_pred_rfeScan,y_eval_rfeScan,h_rfeScan, 'Port Scan')"
   ]
  },
  {
   "cell_type": "markdown",
   "metadata": {},
   "source": [
    "## DOS"
   ]
  },
  {
   "cell_type": "code",
   "execution_count": 116,
   "metadata": {
    "scrolled": true
   },
   "outputs": [
    {
     "name": "stdout",
     "output_type": "stream",
     "text": [
      "Evaluation with all features\n",
      "Accuracy:99.99627726900454%\n",
      "Precison:99.99256892323697\n",
      "Recall:100.0\n",
      "F1-Score:99.9962843235611\n",
      "Confusion matrix, without normalization\n"
     ]
    },
    {
     "data": {
      "image/png": "[encoded data removed]",
      "text/plain": [
       "<Figure size 360x360 with 2 Axes>"
      ]
     },
     "metadata": {
      "needs_background": "light"
     },
     "output_type": "display_data"
    },
    {
     "name": "stderr",
     "output_type": "stream",
     "text": [
      "/anaconda3/lib/python3.7/site-packages/ipykernel_launcher.py:176: DeprecationWarning: `spline` is deprecated!\n",
      "spline is deprecated in scipy 0.19.0, use Bspline class instead.\n"
     ]
    },
    {
     "data": {
      "image/png": "[encoded data removed]",
      "text/plain": [
       "<Figure size 360x360 with 1 Axes>"
      ]
     },
     "metadata": {
      "needs_background": "light"
     },
     "output_type": "display_data"
    },
    {
     "name": "stdout",
     "output_type": "stream",
     "text": [
      "AUC: 0.9999627032671937\n",
      "Evaluation with selected features using ANOVA\n",
      "Accuracy:99.99627726900454%\n",
      "Precison:99.99256892323697\n",
      "Recall:100.0\n",
      "F1-Score:99.9962843235611\n",
      "Confusion matrix, without normalization\n"
     ]
    },
    {
     "data": {
      "image/png": "[encoded data removed]",
      "text/plain": [
       "<Figure size 360x360 with 2 Axes>"
      ]
     },
     "metadata": {
      "needs_background": "light"
     },
     "output_type": "display_data"
    },
    {
     "data": {
      "image/png": "[encoded data removed]",
      "text/plain": [
       "<Figure size 360x360 with 1 Axes>"
      ]
     },
     "metadata": {
      "needs_background": "light"
     },
     "output_type": "display_data"
    },
    {
     "name": "stdout",
     "output_type": "stream",
     "text": [
      "AUC: 0.9999627032671937\n",
      "Evaluation with selected features using RFE\n",
      "Accuracy:99.99627726900454%\n",
      "Precison:99.99256892323697\n",
      "Recall:100.0\n",
      "F1-Score:99.9962843235611\n",
      "Confusion matrix, without normalization\n"
     ]
    },
    {
     "data": {
      "image/png": "[encoded data removed]",
      "text/plain": [
       "<Figure size 360x360 with 2 Axes>"
      ]
     },
     "metadata": {
      "needs_background": "light"
     },
     "output_type": "display_data"
    },
    {
     "data": {
      "image/png": "[encoded data removed]",
      "text/plain": [
       "<Figure size 360x360 with 1 Axes>"
      ]
     },
     "metadata": {
      "needs_background": "light"
     },
     "output_type": "display_data"
    },
    {
     "name": "stdout",
     "output_type": "stream",
     "text": [
      "AUC: 0.9999627032671937\n"
     ]
    }
   ],
   "source": [
    "#evaluate with all features\n",
    "print(\"Evaluation with all features\")\n",
    "evaluate(y_pred_DOS, y_eval_DOS, h_DOS, 'DOS Attack' )\n",
    "#evaluate with selected features\n",
    "print(\"Evaluation with selected features using ANOVA\")\n",
    "evaluate(y_pred_newDOS,  y_eval_newDOS,h_newDOS, 'DOS Attack')\n",
    "print(\"Evaluation with selected features using RFE\")\n",
    "evaluate(y_pred_rfeDOS,  y_eval_rfeDOS,h_rfeDOS, 'DOS Attack')"
   ]
  },
  {
   "cell_type": "markdown",
   "metadata": {},
   "source": [
    "## SSHBruteForce"
   ]
  },
  {
   "cell_type": "code",
   "execution_count": 117,
   "metadata": {
    "scrolled": false
   },
   "outputs": [
    {
     "name": "stdout",
     "output_type": "stream",
     "text": [
      "Evaluation with all features\n",
      "Accuracy:98.66726230362593%\n",
      "Precison:97.48790875622609\n",
      "Recall:99.9260081391047\n",
      "F1-Score:98.69190295235312\n",
      "Confusion matrix, without normalization\n"
     ]
    },
    {
     "data": {
      "image/png": "[encoded data removed]",
      "text/plain": [
       "<Figure size 360x360 with 2 Axes>"
      ]
     },
     "metadata": {
      "needs_background": "light"
     },
     "output_type": "display_data"
    },
    {
     "name": "stderr",
     "output_type": "stream",
     "text": [
      "/anaconda3/lib/python3.7/site-packages/ipykernel_launcher.py:176: DeprecationWarning: `spline` is deprecated!\n",
      "spline is deprecated in scipy 0.19.0, use Bspline class instead.\n"
     ]
    },
    {
     "data": {
      "image/png": "[encoded data removed]",
      "text/plain": [
       "<Figure size 360x360 with 1 Axes>"
      ]
     },
     "metadata": {
      "needs_background": "light"
     },
     "output_type": "display_data"
    },
    {
     "name": "stdout",
     "output_type": "stream",
     "text": [
      "AUC: 0.9865934032489062\n",
      "Evaluation with selected features using ANOVA\n",
      "Accuracy:97.90782518055245%\n",
      "Precison:96.31033249910618\n",
      "Recall:99.6596374398816\n",
      "F1-Score:97.95636363636365\n",
      "Confusion matrix, without normalization\n"
     ]
    },
    {
     "data": {
      "image/png": "[encoded data removed]",
      "text/plain": [
       "<Figure size 360x360 with 2 Axes>"
      ]
     },
     "metadata": {
      "needs_background": "light"
     },
     "output_type": "display_data"
    },
    {
     "data": {
      "image/png": "[encoded data removed]",
      "text/plain": [
       "<Figure size 360x360 with 1 Axes>"
      ]
     },
     "metadata": {
      "needs_background": "light"
     },
     "output_type": "display_data"
    },
    {
     "name": "stdout",
     "output_type": "stream",
     "text": [
      "AUC: 0.9789680006406308\n",
      "Evaluation with selected features using RFE\n",
      "Accuracy:98.77894423348968%\n",
      "Precison:98.09614122109564\n",
      "Recall:99.50425453200148\n",
      "F1-Score:98.79518072289156\n",
      "Confusion matrix, without normalization\n"
     ]
    },
    {
     "data": {
      "image/png": "[encoded data removed]",
      "text/plain": [
       "<Figure size 360x360 with 2 Axes>"
      ]
     },
     "metadata": {
      "needs_background": "light"
     },
     "output_type": "display_data"
    },
    {
     "data": {
      "image/png": "[encoded data removed]",
      "text/plain": [
       "<Figure size 360x360 with 1 Axes>"
      ]
     },
     "metadata": {
      "needs_background": "light"
     },
     "output_type": "display_data"
    },
    {
     "name": "stdout",
     "output_type": "stream",
     "text": [
      "AUC: 0.9877437945750444\n"
     ]
    }
   ],
   "source": [
    "#evaluate with all features\n",
    "print(\"Evaluation with all features\")\n",
    "evaluate(y_pred_SSHBruteForce , y_eval_SSHBruteForce , h_SSHBruteForce, 'Brute Force' )\n",
    "#evaluate with selected features\n",
    "print(\"Evaluation with selected features using ANOVA\")\n",
    "evaluate(y_pred_newSSHBruteForce,y_eval_newSSHBruteForce,h_newSSHBruteForce , 'Brute Force')\n",
    "#evaluate with selected features\n",
    "print(\"Evaluation with selected features using RFE\")\n",
    "evaluate(y_pred_rfeSSHBruteForce,y_eval_rfeSSHBruteForce,h_rfeSSHBruteForce, 'Brute Force')"
   ]
  },
  {
   "cell_type": "markdown",
   "metadata": {},
   "source": [
    "## Malware"
   ]
  },
  {
   "cell_type": "code",
   "execution_count": 118,
   "metadata": {
    "scrolled": true
   },
   "outputs": [
    {
     "name": "stdout",
     "output_type": "stream",
     "text": [
      "Evaluation with all features\n",
      "Accuracy:99.99627726900454%\n",
      "Precison:99.99256892323697\n",
      "Recall:100.0\n",
      "F1-Score:99.9962843235611\n",
      "Confusion matrix, without normalization\n"
     ]
    },
    {
     "data": {
      "image/png": "[encoded data removed]",
      "text/plain": [
       "<Figure size 360x360 with 2 Axes>"
      ]
     },
     "metadata": {
      "needs_background": "light"
     },
     "output_type": "display_data"
    },
    {
     "name": "stderr",
     "output_type": "stream",
     "text": [
      "/anaconda3/lib/python3.7/site-packages/ipykernel_launcher.py:176: DeprecationWarning: `spline` is deprecated!\n",
      "spline is deprecated in scipy 0.19.0, use Bspline class instead.\n"
     ]
    },
    {
     "data": {
      "image/png": "[encoded data removed]",
      "text/plain": [
       "<Figure size 360x360 with 1 Axes>"
      ]
     },
     "metadata": {
      "needs_background": "light"
     },
     "output_type": "display_data"
    },
    {
     "name": "stdout",
     "output_type": "stream",
     "text": [
      "AUC: 0.9999627032671937\n",
      "Evaluation with selected features using ANOVA\n",
      "Accuracy:99.99627726900454%\n",
      "Precison:99.99256892323697\n",
      "Recall:100.0\n",
      "F1-Score:99.9962843235611\n",
      "Confusion matrix, without normalization\n"
     ]
    },
    {
     "data": {
      "image/png": "[encoded data removed]",
      "text/plain": [
       "<Figure size 360x360 with 2 Axes>"
      ]
     },
     "metadata": {
      "needs_background": "light"
     },
     "output_type": "display_data"
    },
    {
     "data": {
      "image/png": "[encoded data removed]",
      "text/plain": [
       "<Figure size 360x360 with 1 Axes>"
      ]
     },
     "metadata": {
      "needs_background": "light"
     },
     "output_type": "display_data"
    },
    {
     "name": "stdout",
     "output_type": "stream",
     "text": [
      "AUC: 0.9999627032671937\n",
      "Evaluation with selected features using RFE\n",
      "Accuracy:99.99627726900454%\n",
      "Precison:99.99256892323697\n",
      "Recall:100.0\n",
      "F1-Score:99.9962843235611\n",
      "Confusion matrix, without normalization\n"
     ]
    },
    {
     "data": {
      "image/png": "[encoded data removed]",
      "text/plain": [
       "<Figure size 360x360 with 2 Axes>"
      ]
     },
     "metadata": {
      "needs_background": "light"
     },
     "output_type": "display_data"
    },
    {
     "data": {
      "image/png": "[encoded data removed]",
      "text/plain": [
       "<Figure size 360x360 with 1 Axes>"
      ]
     },
     "metadata": {
      "needs_background": "light"
     },
     "output_type": "display_data"
    },
    {
     "name": "stdout",
     "output_type": "stream",
     "text": [
      "AUC: 0.9999627032671937\n"
     ]
    }
   ],
   "source": [
    "#evaluate with all features\n",
    "print(\"Evaluation with all features\")\n",
    "evaluate(y_pred_DOS, y_eval_DOS, h_DOS , 'Malware')\n",
    "#evaluate with selected features\n",
    "print(\"Evaluation with selected features using ANOVA\")\n",
    "evaluate(y_pred_newDOS,  y_eval_newDOS,h_newDOS, 'Malware')\n",
    "#evaluate with selected features\n",
    "print(\"Evaluation with selected features using RFE\")\n",
    "evaluate(y_pred_rfeDOS,  y_eval_rfeDOS,h_rfeDOS , 'Malware')\n"
   ]
  },
  {
   "cell_type": "markdown",
   "metadata": {},
   "source": [
    "# Multiclass Classification"
   ]
  },
  {
   "cell_type": "markdown",
   "metadata": {},
   "source": [
    "###   Dense Neural Network"
   ]
  },
  {
   "cell_type": "code",
   "execution_count": 119,
   "metadata": {
    "scrolled": true
   },
   "outputs": [
    {
     "name": "stdout",
     "output_type": "stream",
     "text": [
      "With all the features\n",
      "              precision    recall  f1-score   support\n",
      "\n",
      "      Normal       0.98      0.82      0.89     26697\n",
      "        Scan       0.85      0.97      0.90     13488\n",
      "         DOS       0.99      1.00      0.99     13484\n",
      "  Bruteforce       0.87      1.00      0.93     13344\n",
      "     Malware       0.98      1.00      0.99     13572\n",
      "\n",
      "    accuracy                           0.93     80585\n",
      "   macro avg       0.93      0.96      0.94     80585\n",
      "weighted avg       0.94      0.93      0.93     80585\n",
      "\n",
      "Accuracy:93.38338400446733%\n",
      "Confusion matrix, without normalization\n"
     ]
    },
    {
     "data": {
      "image/png": "[encoded data removed]",
      "text/plain": [
       "<Figure size 720x720 with 2 Axes>"
      ]
     },
     "metadata": {
      "needs_background": "light"
     },
     "output_type": "display_data"
    },
    {
     "data": {
      "image/png": "[encoded data removed]",
      "text/plain": [
       "<Figure size 360x360 with 1 Axes>"
      ]
     },
     "metadata": {
      "needs_background": "light"
     },
     "output_type": "display_data"
    },
    {
     "name": "stdout",
     "output_type": "stream",
     "text": [
      "With selected 35 features\n"
     ]
    },
    {
     "ename": "NameError",
     "evalue": "name 'y_pred_dnns' is not defined",
     "output_type": "error",
     "traceback": [
      "\u001b[0;31m---------------------------------------------------------------------------\u001b[0m",
      "\u001b[0;31mNameError\u001b[0m                                 Traceback (most recent call last)",
      "\u001b[0;32m<ipython-input-119-8b742b98d16a>\u001b[0m in \u001b[0;36m<module>\u001b[0;34m\u001b[0m\n\u001b[1;32m      2\u001b[0m \u001b[0mevaluate_multiclass\u001b[0m\u001b[0;34m(\u001b[0m\u001b[0my_pred_dnn\u001b[0m\u001b[0;34m,\u001b[0m \u001b[0my_eval_dnn\u001b[0m\u001b[0;34m,\u001b[0m \u001b[0mh_dnn\u001b[0m \u001b[0;34m)\u001b[0m\u001b[0;34m\u001b[0m\u001b[0;34m\u001b[0m\u001b[0m\n\u001b[1;32m      3\u001b[0m \u001b[0mprint\u001b[0m\u001b[0;34m(\u001b[0m\u001b[0;34m\"With selected 35 features\"\u001b[0m\u001b[0;34m)\u001b[0m\u001b[0;34m\u001b[0m\u001b[0;34m\u001b[0m\u001b[0m\n\u001b[0;32m----> 4\u001b[0;31m \u001b[0mevaluate_multiclass\u001b[0m\u001b[0;34m(\u001b[0m\u001b[0my_pred_dnns\u001b[0m\u001b[0;34m,\u001b[0m \u001b[0my_eval_dnns\u001b[0m\u001b[0;34m,\u001b[0m \u001b[0mh_dnns\u001b[0m \u001b[0;34m)\u001b[0m\u001b[0;34m\u001b[0m\u001b[0;34m\u001b[0m\u001b[0m\n\u001b[0m",
      "\u001b[0;31mNameError\u001b[0m: name 'y_pred_dnns' is not defined"
     ]
    }
   ],
   "source": [
    "print(\"With all the features\")\n",
    "evaluate_multiclass(y_pred_dnn, y_eval_dnn, h_dnn )\n",
    "print(\"With selected 35 features\")\n",
    "evaluate_multiclass(y_pred_dnns, y_eval_dnns, h_dnns )"
   ]
  },
  {
   "cell_type": "code",
   "execution_count": null,
   "metadata": {},
   "outputs": [],
   "source": []
  }
 ],
 "metadata": {
  "kernelspec": {
   "display_name": "Python 3",
   "language": "python",
   "name": "python3"
  },
  "language_info": {
   "codemirror_mode": {
    "name": "ipython",
    "version": 3
   },
   "file_extension": ".py",
   "mimetype": "text/x-python",
   "name": "python",
   "nbconvert_exporter": "python",
   "pygments_lexer": "ipython3",
   "version": "3.7.3"
  }
 },
 "nbformat": 4,
 "nbformat_minor": 2
}
